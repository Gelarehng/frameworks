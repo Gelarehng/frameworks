{
 "cells": [
  {
   "cell_type": "code",
   "execution_count": 1,
   "metadata": {},
   "outputs": [
    {
     "name": "stderr",
     "output_type": "stream",
     "text": [
      "/opt/conda/envs/gnn4itk/lib/python3.9/site-packages/tqdm/auto.py:21: TqdmWarning: IProgress not found. Please update jupyter and ipywidgets. See https://ipywidgets.readthedocs.io/en/stable/user_install.html\n",
      "  from .autonotebook import tqdm as notebook_tqdm\n",
      "WARNING:root:FRNN is available\n",
      "/opt/conda/envs/gnn4itk/lib/python3.9/site-packages/cudf/utils/_ptxcompiler.py:61: UserWarning: Error getting driver and runtime versions:\n",
      "\n",
      "stdout:\n",
      "\n",
      "\n",
      "\n",
      "stderr:\n",
      "\n",
      "Traceback (most recent call last):\n",
      "  File \"<string>\", line 7, in <module>\n",
      "  File \"/opt/conda/envs/gnn4itk/lib/python3.9/site-packages/numba/cuda/cudadrv/runtime.py\", line 111, in get_version\n",
      "    self.cudaRuntimeGetVersion(ctypes.byref(rtver))\n",
      "  File \"/opt/conda/envs/gnn4itk/lib/python3.9/site-packages/numba/cuda/cudadrv/runtime.py\", line 65, in __getattr__\n",
      "    self._initialize()\n",
      "  File \"/opt/conda/envs/gnn4itk/lib/python3.9/site-packages/numba/cuda/cudadrv/runtime.py\", line 51, in _initialize\n",
      "    self.lib = open_cudalib('cudart')\n",
      "  File \"/opt/conda/envs/gnn4itk/lib/python3.9/site-packages/numba/cuda/cudadrv/libs.py\", line 63, in open_cudalib\n",
      "    path = get_cudalib(lib)\n",
      "  File \"/opt/conda/envs/gnn4itk/lib/python3.9/site-packages/numba/cuda/cudadrv/libs.py\", line 55, in get_cudalib\n",
      "    libdir = get_cuda_paths()[dir_type].info\n",
      "  File \"/opt/conda/envs/gnn4itk/lib/python3.9/site-packages/numba/cuda/cuda_paths.py\", line 223, in get_cuda_paths\n",
      "    'nvvm': _get_nvvm_path(),\n",
      "  File \"/opt/conda/envs/gnn4itk/lib/python3.9/site-packages/numba/cuda/cuda_paths.py\", line 201, in _get_nvvm_path\n",
      "    candidates = find_lib('nvvm', path)\n",
      "  File \"/opt/conda/envs/gnn4itk/lib/python3.9/site-packages/numba/misc/findlib.py\", line 44, in find_lib\n",
      "    return find_file(regex, libdir)\n",
      "  File \"/opt/conda/envs/gnn4itk/lib/python3.9/site-packages/numba/misc/findlib.py\", line 56, in find_file\n",
      "    entries = os.listdir(ldir)\n",
      "FileNotFoundError: [Errno 2] No such file or directory: '/global/homes/a/alazar/.conda/envs/gnn4itk/nvvm/lib64'\n",
      "\n",
      "\n",
      "Not patching Numba\n",
      "  warnings.warn(msg, UserWarning)\n"
     ]
    },
    {
     "ename": "FileNotFoundError",
     "evalue": "[Errno 2] No such file or directory: '/global/homes/a/alazar/.conda/envs/gnn4itk/nvvm/lib64'",
     "output_type": "error",
     "traceback": [
      "\u001b[0;31m---------------------------------------------------------------------------\u001b[0m",
      "\u001b[0;31mFileNotFoundError\u001b[0m                         Traceback (most recent call last)",
      "\u001b[1;32m/global/homes/a/alazar/acorn/notebooks/inferenceExample_2.ipynb Cell 1\u001b[0m line \u001b[0;36m1\n\u001b[1;32m     <a href='vscode-notebook-cell://ssh-remote%2Bexatrkx~working_perl/global/homes/a/alazar/acorn/notebooks/inferenceExample_2.ipynb#W0sdnNjb2RlLXJlbW90ZQ%3D%3D?line=14'>15</a>\u001b[0m \u001b[39mfrom\u001b[39;00m \u001b[39mtqdm\u001b[39;00m \u001b[39mimport\u001b[39;00m tqdm\n\u001b[1;32m     <a href='vscode-notebook-cell://ssh-remote%2Bexatrkx~working_perl/global/homes/a/alazar/acorn/notebooks/inferenceExample_2.ipynb#W0sdnNjb2RlLXJlbW90ZQ%3D%3D?line=15'>16</a>\u001b[0m sys\u001b[39m.\u001b[39mpath\u001b[39m.\u001b[39mappend(\u001b[39m\"\u001b[39m\u001b[39m../../../\u001b[39m\u001b[39m\"\u001b[39m)\n\u001b[0;32m---> <a href='vscode-notebook-cell://ssh-remote%2Bexatrkx~working_perl/global/homes/a/alazar/acorn/notebooks/inferenceExample_2.ipynb#W0sdnNjb2RlLXJlbW90ZQ%3D%3D?line=17'>18</a>\u001b[0m \u001b[39mfrom\u001b[39;00m \u001b[39mgnn4itk_cf\u001b[39;00m\u001b[39m.\u001b[39;00m\u001b[39mcore\u001b[39;00m\u001b[39m.\u001b[39;00m\u001b[39minfer_stage\u001b[39;00m \u001b[39mimport\u001b[39;00m infer\n\u001b[1;32m     <a href='vscode-notebook-cell://ssh-remote%2Bexatrkx~working_perl/global/homes/a/alazar/acorn/notebooks/inferenceExample_2.ipynb#W0sdnNjb2RlLXJlbW90ZQ%3D%3D?line=18'>19</a>\u001b[0m \u001b[39mfrom\u001b[39;00m \u001b[39mgnn4itk_cf\u001b[39;00m\u001b[39m.\u001b[39;00m\u001b[39mcore\u001b[39;00m\u001b[39m.\u001b[39;00m\u001b[39meval_stage\u001b[39;00m \u001b[39mimport\u001b[39;00m evaluate\n",
      "File \u001b[0;32m/code/commonframework/gnn4itk_cf/core/infer_stage.py:34\u001b[0m\n\u001b[1;32m     31\u001b[0m \u001b[39mfrom\u001b[39;00m \u001b[39mpytorch_lightning\u001b[39;00m \u001b[39mimport\u001b[39;00m Trainer\n\u001b[1;32m     32\u001b[0m \u001b[39mfrom\u001b[39;00m \u001b[39mpytorch_lightning\u001b[39;00m \u001b[39mimport\u001b[39;00m LightningModule\n\u001b[0;32m---> 34\u001b[0m \u001b[39mfrom\u001b[39;00m \u001b[39m.\u001b[39;00m\u001b[39mcore_utils\u001b[39;00m \u001b[39mimport\u001b[39;00m str_to_class, find_latest_checkpoint\n\u001b[1;32m     37\u001b[0m \u001b[39m@click\u001b[39m\u001b[39m.\u001b[39mcommand()\n\u001b[1;32m     38\u001b[0m \u001b[39m@click\u001b[39m\u001b[39m.\u001b[39margument(\u001b[39m\"\u001b[39m\u001b[39mconfig_file\u001b[39m\u001b[39m\"\u001b[39m)\n\u001b[1;32m     39\u001b[0m \u001b[39m@click\u001b[39m\u001b[39m.\u001b[39moption(\u001b[39m\"\u001b[39m\u001b[39m--verbose\u001b[39m\u001b[39m\"\u001b[39m, \u001b[39m\"\u001b[39m\u001b[39m-v\u001b[39m\u001b[39m\"\u001b[39m, is_flag\u001b[39m=\u001b[39m\u001b[39mTrue\u001b[39;00m, help\u001b[39m=\u001b[39m\u001b[39m\"\u001b[39m\u001b[39mVerbose mode\u001b[39m\u001b[39m\"\u001b[39m)\n\u001b[0;32m   (...)\u001b[0m\n\u001b[1;32m     42\u001b[0m )\n\u001b[1;32m     43\u001b[0m \u001b[39mdef\u001b[39;00m \u001b[39mmain\u001b[39m(config_file, verbose, checkpoint):\n\u001b[1;32m     44\u001b[0m \u001b[39m    \u001b[39m\u001b[39m\"\"\"\u001b[39;00m\n\u001b[1;32m     45\u001b[0m \u001b[39m    Main function to train a stage. Separate the main and train_stage functions to allow for testing.\u001b[39;00m\n\u001b[1;32m     46\u001b[0m \u001b[39m    \"\"\"\u001b[39;00m\n",
      "File \u001b[0;32m/code/commonframework/gnn4itk_cf/core/core_utils.py:29\u001b[0m\n\u001b[1;32m     26\u001b[0m \u001b[39mfrom\u001b[39;00m \u001b[39mpytorch_lightning\u001b[39;00m \u001b[39mimport\u001b[39;00m Trainer\n\u001b[1;32m     27\u001b[0m \u001b[39mfrom\u001b[39;00m \u001b[39mpytorch_lightning\u001b[39;00m\u001b[39m.\u001b[39;00m\u001b[39mcallbacks\u001b[39;00m \u001b[39mimport\u001b[39;00m ModelCheckpoint\n\u001b[0;32m---> 29\u001b[0m \u001b[39mfrom\u001b[39;00m \u001b[39mgnn4itk_cf\u001b[39;00m \u001b[39mimport\u001b[39;00m stages\n\u001b[1;32m     30\u001b[0m \u001b[39mfrom\u001b[39;00m \u001b[39mgnn4itk_cf\u001b[39;00m\u001b[39m.\u001b[39;00m\u001b[39mstages\u001b[39;00m \u001b[39mimport\u001b[39;00m \u001b[39m*\u001b[39m  \u001b[39m# noqa\u001b[39;00m\n\u001b[1;32m     31\u001b[0m \u001b[39mfrom\u001b[39;00m \u001b[39mpytorch_lightning\u001b[39;00m\u001b[39m.\u001b[39;00m\u001b[39mstrategies\u001b[39;00m\u001b[39m.\u001b[39;00m\u001b[39mddp\u001b[39;00m \u001b[39mimport\u001b[39;00m DDPStrategy\n",
      "File \u001b[0;32m/code/commonframework/gnn4itk_cf/stages/__init__.py:16\u001b[0m\n\u001b[1;32m      1\u001b[0m \u001b[39m# Copyright (C) 2023 CERN for the benefit of the ATLAS collaboration\u001b[39;00m\n\u001b[1;32m      2\u001b[0m \n\u001b[1;32m      3\u001b[0m \u001b[39m# Licensed under the Apache License, Version 2.0 (the \"License\");\u001b[39;00m\n\u001b[0;32m   (...)\u001b[0m\n\u001b[1;32m     12\u001b[0m \u001b[39m# See the License for the specific language governing permissions and\u001b[39;00m\n\u001b[1;32m     13\u001b[0m \u001b[39m# limitations under the License.\u001b[39;00m\n\u001b[1;32m     15\u001b[0m \u001b[39mfrom\u001b[39;00m \u001b[39m.\u001b[39;00m\u001b[39mdata_reading\u001b[39;00m \u001b[39mimport\u001b[39;00m \u001b[39m*\u001b[39m\n\u001b[0;32m---> 16\u001b[0m \u001b[39mfrom\u001b[39;00m \u001b[39m.\u001b[39;00m\u001b[39mgraph_construction\u001b[39;00m \u001b[39mimport\u001b[39;00m \u001b[39m*\u001b[39m\n\u001b[1;32m     17\u001b[0m \u001b[39mfrom\u001b[39;00m \u001b[39m.\u001b[39;00m\u001b[39medge_classifier\u001b[39;00m \u001b[39mimport\u001b[39;00m \u001b[39m*\u001b[39m\n\u001b[1;32m     18\u001b[0m \u001b[39mfrom\u001b[39;00m \u001b[39m.\u001b[39;00m\u001b[39mtrack_building\u001b[39;00m \u001b[39mimport\u001b[39;00m \u001b[39m*\u001b[39m\n",
      "File \u001b[0;32m/code/commonframework/gnn4itk_cf/stages/graph_construction/__init__.py:16\u001b[0m\n\u001b[1;32m      1\u001b[0m \u001b[39m# Copyright (C) 2023 CERN for the benefit of the ATLAS collaboration\u001b[39;00m\n\u001b[1;32m      2\u001b[0m \n\u001b[1;32m      3\u001b[0m \u001b[39m# Licensed under the Apache License, Version 2.0 (the \"License\");\u001b[39;00m\n\u001b[0;32m   (...)\u001b[0m\n\u001b[1;32m     12\u001b[0m \u001b[39m# See the License for the specific language governing permissions and\u001b[39;00m\n\u001b[1;32m     13\u001b[0m \u001b[39m# limitations under the License.\u001b[39;00m\n\u001b[1;32m     15\u001b[0m \u001b[39mfrom\u001b[39;00m \u001b[39m.\u001b[39;00m\u001b[39mmodels\u001b[39;00m\u001b[39m.\u001b[39;00m\u001b[39mmetric_learning\u001b[39;00m \u001b[39mimport\u001b[39;00m MetricLearning\n\u001b[0;32m---> 16\u001b[0m \u001b[39mfrom\u001b[39;00m \u001b[39m.\u001b[39;00m\u001b[39mmodels\u001b[39;00m\u001b[39m.\u001b[39;00m\u001b[39mpy_module_map\u001b[39;00m \u001b[39mimport\u001b[39;00m PyModuleMap\n\u001b[1;32m     17\u001b[0m \u001b[39mfrom\u001b[39;00m \u001b[39m.\u001b[39;00m\u001b[39mmodels\u001b[39;00m\u001b[39m.\u001b[39;00m\u001b[39mtransformer_metric\u001b[39;00m \u001b[39mimport\u001b[39;00m TransformerMetricLearning\n\u001b[1;32m     18\u001b[0m \u001b[39mfrom\u001b[39;00m \u001b[39m.\u001b[39;00m\u001b[39mmodels\u001b[39;00m\u001b[39m.\u001b[39;00m\u001b[39mgravnet\u001b[39;00m \u001b[39mimport\u001b[39;00m GravNetMetricLearning\n",
      "File \u001b[0;32m/code/commonframework/gnn4itk_cf/stages/graph_construction/models/py_module_map.py:25\u001b[0m\n\u001b[1;32m     22\u001b[0m \u001b[39mimport\u001b[39;00m \u001b[39mtime\u001b[39;00m\n\u001b[1;32m     24\u001b[0m \u001b[39mtry\u001b[39;00m:\n\u001b[0;32m---> 25\u001b[0m     \u001b[39mimport\u001b[39;00m \u001b[39mcudf\u001b[39;00m\n\u001b[1;32m     26\u001b[0m \u001b[39mexcept\u001b[39;00m \u001b[39mImportError\u001b[39;00m:\n\u001b[1;32m     27\u001b[0m     logging\u001b[39m.\u001b[39mwarning(\u001b[39m\"\u001b[39m\u001b[39mcuDF not found, using pandas instead\u001b[39m\u001b[39m\"\u001b[39m)\n",
      "File \u001b[0;32m/opt/conda/envs/gnn4itk/lib/python3.9/site-packages/cudf/__init__.py:10\u001b[0m\n\u001b[1;32m      7\u001b[0m \u001b[39mfrom\u001b[39;00m \u001b[39mcudf\u001b[39;00m\u001b[39m.\u001b[39;00m\u001b[39mutils\u001b[39;00m\u001b[39m.\u001b[39;00m\u001b[39mgpu_utils\u001b[39;00m \u001b[39mimport\u001b[39;00m validate_setup\n\u001b[1;32m      9\u001b[0m _setup_numba()\n\u001b[0;32m---> 10\u001b[0m validate_setup()\n\u001b[1;32m     12\u001b[0m \u001b[39mimport\u001b[39;00m \u001b[39mcupy\u001b[39;00m\n\u001b[1;32m     13\u001b[0m \u001b[39mfrom\u001b[39;00m \u001b[39mnumba\u001b[39;00m \u001b[39mimport\u001b[39;00m config \u001b[39mas\u001b[39;00m numba_config, cuda\n",
      "File \u001b[0;32m/opt/conda/envs/gnn4itk/lib/python3.9/site-packages/cudf/utils/gpu_utils.py:95\u001b[0m, in \u001b[0;36mvalidate_setup\u001b[0;34m()\u001b[0m\n\u001b[1;32m     85\u001b[0m     minor_version \u001b[39m=\u001b[39m getDeviceAttribute(\n\u001b[1;32m     86\u001b[0m         cudaDeviceAttr\u001b[39m.\u001b[39mcudaDevAttrComputeCapabilityMinor, \u001b[39m0\u001b[39m\n\u001b[1;32m     87\u001b[0m     )\n\u001b[1;32m     88\u001b[0m     warnings\u001b[39m.\u001b[39mwarn(\n\u001b[1;32m     89\u001b[0m         \u001b[39m\"\u001b[39m\u001b[39mA GPU with NVIDIA Pascal™ (Compute Capability 6.0) \u001b[39m\u001b[39m\"\u001b[39m\n\u001b[1;32m     90\u001b[0m         \u001b[39m\"\u001b[39m\u001b[39mor newer architecture is required.\u001b[39m\u001b[39m\\n\u001b[39;00m\u001b[39m\"\u001b[39m\n\u001b[1;32m     91\u001b[0m         \u001b[39mf\u001b[39m\u001b[39m\"\u001b[39m\u001b[39mDetected GPU 0: \u001b[39m\u001b[39m{\u001b[39;00mdevice_name\u001b[39m}\u001b[39;00m\u001b[39m\\n\u001b[39;00m\u001b[39m\"\u001b[39m\n\u001b[1;32m     92\u001b[0m         \u001b[39mf\u001b[39m\u001b[39m\"\u001b[39m\u001b[39mDetected Compute Capability: \u001b[39m\u001b[39m{\u001b[39;00mmajor_version\u001b[39m}\u001b[39;00m\u001b[39m.\u001b[39m\u001b[39m{\u001b[39;00mminor_version\u001b[39m}\u001b[39;00m\u001b[39m\"\u001b[39m\n\u001b[1;32m     93\u001b[0m     )\n\u001b[0;32m---> 95\u001b[0m cuda_runtime_version \u001b[39m=\u001b[39m runtimeGetVersion()\n\u001b[1;32m     97\u001b[0m \u001b[39mif\u001b[39;00m cuda_runtime_version \u001b[39m<\u001b[39m \u001b[39m11000\u001b[39m:\n\u001b[1;32m     98\u001b[0m     \u001b[39m# Require CUDA Runtime version 11.0 or greater.\u001b[39;00m\n\u001b[1;32m     99\u001b[0m     major_version \u001b[39m=\u001b[39m cuda_runtime_version \u001b[39m/\u001b[39m\u001b[39m/\u001b[39m \u001b[39m1000\u001b[39m\n",
      "File \u001b[0;32m/opt/conda/envs/gnn4itk/lib/python3.9/site-packages/rmm/_cuda/gpu.py:88\u001b[0m, in \u001b[0;36mruntimeGetVersion\u001b[0;34m()\u001b[0m\n\u001b[1;32m     84\u001b[0m \u001b[39m# TODO: Replace this with `cuda.cudart.cudaRuntimeGetVersion()` when the\u001b[39;00m\n\u001b[1;32m     85\u001b[0m \u001b[39m# limitation is fixed.\u001b[39;00m\n\u001b[1;32m     86\u001b[0m \u001b[39mimport\u001b[39;00m \u001b[39mnumba\u001b[39;00m\u001b[39m.\u001b[39;00m\u001b[39mcuda\u001b[39;00m\n\u001b[0;32m---> 88\u001b[0m major, minor \u001b[39m=\u001b[39m numba\u001b[39m.\u001b[39;49mcuda\u001b[39m.\u001b[39;49mruntime\u001b[39m.\u001b[39;49mget_version()\n\u001b[1;32m     89\u001b[0m \u001b[39mreturn\u001b[39;00m major \u001b[39m*\u001b[39m \u001b[39m1000\u001b[39m \u001b[39m+\u001b[39m minor \u001b[39m*\u001b[39m \u001b[39m10\u001b[39m\n",
      "File \u001b[0;32m/opt/conda/envs/gnn4itk/lib/python3.9/site-packages/numba/cuda/cudadrv/runtime.py:111\u001b[0m, in \u001b[0;36mRuntime.get_version\u001b[0;34m(self)\u001b[0m\n\u001b[1;32m    107\u001b[0m \u001b[39m\u001b[39m\u001b[39m\"\"\"\u001b[39;00m\n\u001b[1;32m    108\u001b[0m \u001b[39mReturns the CUDA Runtime version as a tuple (major, minor).\u001b[39;00m\n\u001b[1;32m    109\u001b[0m \u001b[39m\"\"\"\u001b[39;00m\n\u001b[1;32m    110\u001b[0m rtver \u001b[39m=\u001b[39m ctypes\u001b[39m.\u001b[39mc_int()\n\u001b[0;32m--> 111\u001b[0m \u001b[39mself\u001b[39;49m\u001b[39m.\u001b[39;49mcudaRuntimeGetVersion(ctypes\u001b[39m.\u001b[39mbyref(rtver))\n\u001b[1;32m    112\u001b[0m \u001b[39m# The version is encoded as (1000 * major) + (10 * minor)\u001b[39;00m\n\u001b[1;32m    113\u001b[0m major \u001b[39m=\u001b[39m rtver\u001b[39m.\u001b[39mvalue \u001b[39m/\u001b[39m\u001b[39m/\u001b[39m \u001b[39m1000\u001b[39m\n",
      "File \u001b[0;32m/opt/conda/envs/gnn4itk/lib/python3.9/site-packages/numba/cuda/cudadrv/runtime.py:65\u001b[0m, in \u001b[0;36mRuntime.__getattr__\u001b[0;34m(self, fname)\u001b[0m\n\u001b[1;32m     62\u001b[0m argtypes \u001b[39m=\u001b[39m proto[\u001b[39m1\u001b[39m:]\n\u001b[1;32m     64\u001b[0m \u001b[39mif\u001b[39;00m \u001b[39mnot\u001b[39;00m \u001b[39mself\u001b[39m\u001b[39m.\u001b[39mis_initialized:\n\u001b[0;32m---> 65\u001b[0m     \u001b[39mself\u001b[39;49m\u001b[39m.\u001b[39;49m_initialize()\n\u001b[1;32m     67\u001b[0m \u001b[39m# Find function in runtime library\u001b[39;00m\n\u001b[1;32m     68\u001b[0m libfn \u001b[39m=\u001b[39m \u001b[39mself\u001b[39m\u001b[39m.\u001b[39m_find_api(fname)\n",
      "File \u001b[0;32m/opt/conda/envs/gnn4itk/lib/python3.9/site-packages/numba/cuda/cudadrv/runtime.py:51\u001b[0m, in \u001b[0;36mRuntime._initialize\u001b[0;34m(self)\u001b[0m\n\u001b[1;32m     47\u001b[0m     msg \u001b[39m=\u001b[39m (\u001b[39m\"\u001b[39m\u001b[39mCUDA is disabled due to setting NUMBA_DISABLE_CUDA=1 \u001b[39m\u001b[39m\"\u001b[39m\n\u001b[1;32m     48\u001b[0m            \u001b[39m\"\u001b[39m\u001b[39min the environment, or because CUDA is unsupported on \u001b[39m\u001b[39m\"\u001b[39m\n\u001b[1;32m     49\u001b[0m            \u001b[39m\"\u001b[39m\u001b[39m32-bit systems.\u001b[39m\u001b[39m\"\u001b[39m)\n\u001b[1;32m     50\u001b[0m     \u001b[39mraise\u001b[39;00m CudaSupportError(msg)\n\u001b[0;32m---> 51\u001b[0m \u001b[39mself\u001b[39m\u001b[39m.\u001b[39mlib \u001b[39m=\u001b[39m open_cudalib(\u001b[39m'\u001b[39;49m\u001b[39mcudart\u001b[39;49m\u001b[39m'\u001b[39;49m)\n\u001b[1;32m     53\u001b[0m \u001b[39mself\u001b[39m\u001b[39m.\u001b[39mis_initialized \u001b[39m=\u001b[39m \u001b[39mTrue\u001b[39;00m\n",
      "File \u001b[0;32m/opt/conda/envs/gnn4itk/lib/python3.9/site-packages/numba/cuda/cudadrv/libs.py:63\u001b[0m, in \u001b[0;36mopen_cudalib\u001b[0;34m(lib)\u001b[0m\n\u001b[1;32m     62\u001b[0m \u001b[39mdef\u001b[39;00m \u001b[39mopen_cudalib\u001b[39m(lib):\n\u001b[0;32m---> 63\u001b[0m     path \u001b[39m=\u001b[39m get_cudalib(lib)\n\u001b[1;32m     64\u001b[0m     \u001b[39mreturn\u001b[39;00m ctypes\u001b[39m.\u001b[39mCDLL(path)\n",
      "File \u001b[0;32m/opt/conda/envs/gnn4itk/lib/python3.9/site-packages/numba/cuda/cudadrv/libs.py:55\u001b[0m, in \u001b[0;36mget_cudalib\u001b[0;34m(lib, platform, static)\u001b[0m\n\u001b[1;32m     53\u001b[0m \u001b[39melse\u001b[39;00m:\n\u001b[1;32m     54\u001b[0m     dir_type \u001b[39m=\u001b[39m \u001b[39m'\u001b[39m\u001b[39mstatic_cudalib_dir\u001b[39m\u001b[39m'\u001b[39m \u001b[39mif\u001b[39;00m static \u001b[39melse\u001b[39;00m \u001b[39m'\u001b[39m\u001b[39mcudalib_dir\u001b[39m\u001b[39m'\u001b[39m\n\u001b[0;32m---> 55\u001b[0m     libdir \u001b[39m=\u001b[39m get_cuda_paths()[dir_type]\u001b[39m.\u001b[39minfo\n\u001b[1;32m     57\u001b[0m candidates \u001b[39m=\u001b[39m find_lib(lib, libdir, platform\u001b[39m=\u001b[39mplatform, static\u001b[39m=\u001b[39mstatic)\n\u001b[1;32m     58\u001b[0m namepattern \u001b[39m=\u001b[39m _staticnamepattern \u001b[39mif\u001b[39;00m static \u001b[39melse\u001b[39;00m _dllnamepattern\n",
      "File \u001b[0;32m/opt/conda/envs/gnn4itk/lib/python3.9/site-packages/numba/cuda/cuda_paths.py:223\u001b[0m, in \u001b[0;36mget_cuda_paths\u001b[0;34m()\u001b[0m\n\u001b[1;32m    219\u001b[0m     \u001b[39mreturn\u001b[39;00m get_cuda_paths\u001b[39m.\u001b[39m_cached_result\n\u001b[1;32m    220\u001b[0m \u001b[39melse\u001b[39;00m:\n\u001b[1;32m    221\u001b[0m     \u001b[39m# Not in cache\u001b[39;00m\n\u001b[1;32m    222\u001b[0m     d \u001b[39m=\u001b[39m {\n\u001b[0;32m--> 223\u001b[0m         \u001b[39m'\u001b[39m\u001b[39mnvvm\u001b[39m\u001b[39m'\u001b[39m: _get_nvvm_path(),\n\u001b[1;32m    224\u001b[0m         \u001b[39m'\u001b[39m\u001b[39mlibdevice\u001b[39m\u001b[39m'\u001b[39m: _get_libdevice_paths(),\n\u001b[1;32m    225\u001b[0m         \u001b[39m'\u001b[39m\u001b[39mcudalib_dir\u001b[39m\u001b[39m'\u001b[39m: _get_cudalib_dir(),\n\u001b[1;32m    226\u001b[0m         \u001b[39m'\u001b[39m\u001b[39mstatic_cudalib_dir\u001b[39m\u001b[39m'\u001b[39m: _get_static_cudalib_dir(),\n\u001b[1;32m    227\u001b[0m     }\n\u001b[1;32m    228\u001b[0m     \u001b[39m# Cache result\u001b[39;00m\n\u001b[1;32m    229\u001b[0m     get_cuda_paths\u001b[39m.\u001b[39m_cached_result \u001b[39m=\u001b[39m d\n",
      "File \u001b[0;32m/opt/conda/envs/gnn4itk/lib/python3.9/site-packages/numba/cuda/cuda_paths.py:201\u001b[0m, in \u001b[0;36m_get_nvvm_path\u001b[0;34m()\u001b[0m\n\u001b[1;32m    199\u001b[0m \u001b[39mdef\u001b[39;00m \u001b[39m_get_nvvm_path\u001b[39m():\n\u001b[1;32m    200\u001b[0m     by, path \u001b[39m=\u001b[39m _get_nvvm_path_decision()\n\u001b[0;32m--> 201\u001b[0m     candidates \u001b[39m=\u001b[39m find_lib(\u001b[39m'\u001b[39;49m\u001b[39mnvvm\u001b[39;49m\u001b[39m'\u001b[39;49m, path)\n\u001b[1;32m    202\u001b[0m     path \u001b[39m=\u001b[39m \u001b[39mmax\u001b[39m(candidates) \u001b[39mif\u001b[39;00m candidates \u001b[39melse\u001b[39;00m \u001b[39mNone\u001b[39;00m\n\u001b[1;32m    203\u001b[0m     \u001b[39mreturn\u001b[39;00m _env_path_tuple(by, path)\n",
      "File \u001b[0;32m/opt/conda/envs/gnn4itk/lib/python3.9/site-packages/numba/misc/findlib.py:44\u001b[0m, in \u001b[0;36mfind_lib\u001b[0;34m(libname, libdir, platform, static)\u001b[0m\n\u001b[1;32m     42\u001b[0m pat \u001b[39m=\u001b[39m DLLNAMEMAP[platform] \u001b[39m%\u001b[39m {\u001b[39m\"\u001b[39m\u001b[39mname\u001b[39m\u001b[39m\"\u001b[39m: libname, \u001b[39m\"\u001b[39m\u001b[39mver\u001b[39m\u001b[39m\"\u001b[39m: RE_VER}\n\u001b[1;32m     43\u001b[0m regex \u001b[39m=\u001b[39m re\u001b[39m.\u001b[39mcompile(pat)\n\u001b[0;32m---> 44\u001b[0m \u001b[39mreturn\u001b[39;00m find_file(regex, libdir)\n",
      "File \u001b[0;32m/opt/conda/envs/gnn4itk/lib/python3.9/site-packages/numba/misc/findlib.py:56\u001b[0m, in \u001b[0;36mfind_file\u001b[0;34m(pat, libdir)\u001b[0m\n\u001b[1;32m     54\u001b[0m files \u001b[39m=\u001b[39m []\n\u001b[1;32m     55\u001b[0m \u001b[39mfor\u001b[39;00m ldir \u001b[39min\u001b[39;00m libdirs:\n\u001b[0;32m---> 56\u001b[0m     entries \u001b[39m=\u001b[39m os\u001b[39m.\u001b[39;49mlistdir(ldir)\n\u001b[1;32m     57\u001b[0m     candidates \u001b[39m=\u001b[39m [os\u001b[39m.\u001b[39mpath\u001b[39m.\u001b[39mjoin(ldir, ent)\n\u001b[1;32m     58\u001b[0m                   \u001b[39mfor\u001b[39;00m ent \u001b[39min\u001b[39;00m entries \u001b[39mif\u001b[39;00m pat\u001b[39m.\u001b[39mmatch(ent)]\n\u001b[1;32m     59\u001b[0m     files\u001b[39m.\u001b[39mextend([c \u001b[39mfor\u001b[39;00m c \u001b[39min\u001b[39;00m candidates \u001b[39mif\u001b[39;00m os\u001b[39m.\u001b[39mpath\u001b[39m.\u001b[39misfile(c)])\n",
      "\u001b[0;31mFileNotFoundError\u001b[0m: [Errno 2] No such file or directory: '/global/homes/a/alazar/.conda/envs/gnn4itk/nvvm/lib64'"
     ]
    }
   ],
   "source": [
    "%load_ext autoreload\n",
    "%autoreload 2\n",
    "\n",
    "import os\n",
    "import sys\n",
    "\n",
    "import numpy as np\n",
    "import pandas as pd\n",
    "import scipy.sparse as sps\n",
    "import yaml\n",
    "from itertools import chain, product, combinations\n",
    "import torch\n",
    "\n",
    "from time import time as tt\n",
    "from tqdm import tqdm\n",
    "sys.path.append(\"../../../\")\n",
    "\n",
    "from gnn4itk_cf.core.infer_stage import infer\n",
    "from gnn4itk_cf.core.eval_stage import evaluate"
   ]
  },
  {
   "cell_type": "code",
   "execution_count": 2,
   "metadata": {},
   "outputs": [],
   "source": [
    "config_dr = \"../examples/Example_2/data_reader.yaml\"\n",
    "config_ml = \"../examples/Example_2/metric_learning_infer.yaml\"\n",
    "config_fil = \"../examples/Example_2/filter_infer.yaml\"\n",
    "config_gnn = \"../examples/Example_2/gnn_infer.yaml\"\n",
    "config_tbi = \"../examples/Example_2/track_building_infer.yaml\"\n",
    "config_tbe = \"../examples/Example_2/track_building_eval.yaml\""
   ]
  },
  {
   "cell_type": "code",
   "execution_count": 3,
   "metadata": {
    "tags": []
   },
   "outputs": [
    {
     "ename": "TypeError",
     "evalue": "evaluate() missing 1 required positional argument: 'checkpoint'",
     "output_type": "error",
     "traceback": [
      "\u001b[0;31m---------------------------------------------------------------------------\u001b[0m",
      "\u001b[0;31mTypeError\u001b[0m                                 Traceback (most recent call last)",
      "\u001b[1;32m/global/homes/a/alazar/acorn/notebooks/inference.ipynb Cell 3\u001b[0m line \u001b[0;36m5\n\u001b[1;32m      <a href='vscode-notebook-cell://ssh-remote%2B7b22686f73744e616d65223a22776f726b696e674e5f7065726c227d/global/homes/a/alazar/acorn/notebooks/inference.ipynb#W2sdnNjb2RlLXJlbW90ZQ%3D%3D?line=0'>1</a>\u001b[0m \u001b[39m#infer(config_dr )\u001b[39;00m\n\u001b[1;32m      <a href='vscode-notebook-cell://ssh-remote%2B7b22686f73744e616d65223a22776f726b696e674e5f7065726c227d/global/homes/a/alazar/acorn/notebooks/inference.ipynb#W2sdnNjb2RlLXJlbW90ZQ%3D%3D?line=1'>2</a>\u001b[0m \u001b[39m#infer(config_mm)\u001b[39;00m\n\u001b[1;32m      <a href='vscode-notebook-cell://ssh-remote%2B7b22686f73744e616d65223a22776f726b696e674e5f7065726c227d/global/homes/a/alazar/acorn/notebooks/inference.ipynb#W2sdnNjb2RlLXJlbW90ZQ%3D%3D?line=2'>3</a>\u001b[0m \u001b[39m#infer(config_gnn)\u001b[39;00m\n\u001b[1;32m      <a href='vscode-notebook-cell://ssh-remote%2B7b22686f73744e616d65223a22776f726b696e674e5f7065726c227d/global/homes/a/alazar/acorn/notebooks/inference.ipynb#W2sdnNjb2RlLXJlbW90ZQ%3D%3D?line=3'>4</a>\u001b[0m \u001b[39m#infer(config_tbi)\u001b[39;00m\n\u001b[0;32m----> <a href='vscode-notebook-cell://ssh-remote%2B7b22686f73744e616d65223a22776f726b696e674e5f7065726c227d/global/homes/a/alazar/acorn/notebooks/inference.ipynb#W2sdnNjb2RlLXJlbW90ZQ%3D%3D?line=4'>5</a>\u001b[0m evaluate(config_tbe)\n",
      "\u001b[0;31mTypeError\u001b[0m: evaluate() missing 1 required positional argument: 'checkpoint'"
     ]
    }
   ],
   "source": [
    "infer(config_dr )\n",
    "infer(config_ml)\n",
    "infer(config_fil)\n",
    "infer(config_gnn)\n",
    "infer(config_tbi)\n",
    "evaluate(config_tbe,None)"
   ]
  }
 ],
 "metadata": {
  "kernelspec": {
   "display_name": "Python 3",
   "language": "python",
   "name": "python3"
  },
  "language_info": {
   "codemirror_mode": {
    "name": "ipython",
    "version": 3
   },
   "file_extension": ".py",
   "mimetype": "text/x-python",
   "name": "python",
   "nbconvert_exporter": "python",
   "pygments_lexer": "ipython3",
   "version": "3.9.18"
  }
 },
 "nbformat": 4,
 "nbformat_minor": 4
}
