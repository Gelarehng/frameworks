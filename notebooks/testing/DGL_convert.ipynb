{
 "cells": [
  {
   "cell_type": "code",
   "execution_count": null,
   "metadata": {},
   "outputs": [],
   "source": [
    "%load_ext autoreload\n",
    "%autoreload 2\n",
    "\n",
    "import os\n",
    "import yaml\n",
    "\n",
    "import numpy as np\n",
    "import pandas as pd\n",
    "import seaborn as sns\n",
    "import yaml\n",
    "import torch\n",
    "from torch_geometric.data import Data\n",
    "import matplotlib.pyplot as plt\n",
    "#from torch_geometric.utils import to_dgl\n",
    "from time import time as tt\n",
    "import dgl\n",
    "from torch_geometric.data import Data, HeteroData"
   ]
  },
  {
   "cell_type": "code",
   "execution_count": null,
   "metadata": {},
   "outputs": [],
   "source": [
    "def to_dgl(data):\n",
    "    if isinstance(data, Data):\n",
    "        if data.edge_index is not None:\n",
    "            row, col = data.edge_index\n",
    "        else:\n",
    "            row, col, _ = data.adj_t.t().coo()\n",
    "\n",
    "        g = dgl.graph((row, col))\n",
    "\n",
    "        #for attr in data.node_attrs():\n",
    "        #    g.ndata[attr] = data[attr]\n",
    "        #for attr in data.edge_attrs():\n",
    "        #    if attr in ['edge_index', 'adj_t']:\n",
    "        #        continue\n",
    "        \n",
    "        g.edata = data.edge_index\n",
    "        g.ndata = data.x\n",
    "\n",
    "        return g\n",
    "\n",
    "    raise ValueError(f\"Invalid data type (got '{type(data)}')\")"
   ]
  },
  {
   "cell_type": "code",
   "execution_count": null,
   "metadata": {},
   "outputs": [],
   "source": [
    "edge_index = torch.tensor([[0, 1, 1, 2, 3, 0], [1, 0, 2, 1, 4, 4]])\n",
    "x = torch.randn(5, 3)\n",
    "edge_attr = torch.randn(6, 2)\n",
    "data = Data(x=x, edge_index=edge_index, edge_attrs=edge_attr)\n",
    "g = to_dgl(data)\n",
    "g\n",
    "#Graph(num_nodes=5, num_edges=6,\n",
    "#    ndata_schemes={'x': Scheme(shape=(3,))}\n",
    "#    edata_schemes={'edge_attr': Scheme(shape=(2, ))})"
   ]
  }
 ],
 "metadata": {
  "language_info": {
   "name": "python"
  }
 },
 "nbformat": 4,
 "nbformat_minor": 2
}
