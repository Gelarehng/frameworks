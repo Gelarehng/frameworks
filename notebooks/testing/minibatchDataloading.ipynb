{
 "cells": [
  {
   "cell_type": "code",
   "execution_count": null,
   "metadata": {},
   "outputs": [],
   "source": [
    "%load_ext autoreload\n",
    "%autoreload 2\n",
    "\n",
    "import os\n",
    "\n",
    "import numpy as np\n",
    "import pandas as pd\n",
    "import yaml\n",
    "\n",
    "import matplotlib.pyplot as plt\n",
    "import seaborn as sns\n",
    "\n",
    "from torch_geometric.data import Batch\n",
    "\n",
    "from torch_geometric.data import Data\n",
    "\n",
    "from gnn4itk_cf.stages.edge_classifier import InteractionGNN"
   ]
  },
  {
   "cell_type": "code",
   "execution_count": null,
   "metadata": {},
   "outputs": [
    {
     "name": "stderr",
     "output_type": "stream",
     "text": [
      "/users/PLS0150/ialadutska/data/CommonFramework/gnn4itk_cf/utils/loading_utils.py:65: UserWarning: OPTIONAL feature [particle_id] not found in data\n",
      "  warnings.warn(f\"OPTIONAL feature [{feature}] not found in data\")\n",
      "/users/PLS0150/ialadutska/data/CommonFramework/gnn4itk_cf/utils/loading_utils.py:65: UserWarning: OPTIONAL feature [nhits] not found in data\n",
      "  warnings.warn(f\"OPTIONAL feature [{feature}] not found in data\")\n",
      "/users/PLS0150/ialadutska/data/CommonFramework/gnn4itk_cf/utils/loading_utils.py:65: UserWarning: OPTIONAL feature [primary] not found in data\n",
      "  warnings.warn(f\"OPTIONAL feature [{feature}] not found in data\")\n",
      "/users/PLS0150/ialadutska/data/CommonFramework/gnn4itk_cf/utils/loading_utils.py:65: UserWarning: OPTIONAL feature [pdgId] not found in data\n",
      "  warnings.warn(f\"OPTIONAL feature [{feature}] not found in data\")\n",
      "/users/PLS0150/ialadutska/data/CommonFramework/gnn4itk_cf/utils/loading_utils.py:65: UserWarning: OPTIONAL feature [ghost] not found in data\n",
      "  warnings.warn(f\"OPTIONAL feature [{feature}] not found in data\")\n",
      "/users/PLS0150/ialadutska/data/CommonFramework/gnn4itk_cf/utils/loading_utils.py:65: UserWarning: OPTIONAL feature [shared] not found in data\n",
      "  warnings.warn(f\"OPTIONAL feature [{feature}] not found in data\")\n",
      "/users/PLS0150/ialadutska/data/CommonFramework/gnn4itk_cf/utils/loading_utils.py:65: UserWarning: OPTIONAL feature [module_id] not found in data\n",
      "  warnings.warn(f\"OPTIONAL feature [{feature}] not found in data\")\n",
      "/users/PLS0150/ialadutska/data/CommonFramework/gnn4itk_cf/utils/loading_utils.py:65: UserWarning: OPTIONAL feature [region] not found in data\n",
      "  warnings.warn(f\"OPTIONAL feature [{feature}] not found in data\")\n",
      "/users/PLS0150/ialadutska/data/CommonFramework/gnn4itk_cf/utils/loading_utils.py:65: UserWarning: OPTIONAL feature [hit_id] not found in data\n",
      "  warnings.warn(f\"OPTIONAL feature [{feature}] not found in data\")\n",
      "/users/PLS0150/ialadutska/data/CommonFramework/gnn4itk_cf/utils/loading_utils.py:65: UserWarning: OPTIONAL feature [pt] not found in data\n",
      "  warnings.warn(f\"OPTIONAL feature [{feature}] not found in data\")\n"
     ]
    },
    {
     "name": "stdout",
     "output_type": "stream",
     "text": [
      "Defining figures of merit\n"
     ]
    },
    {
     "name": "stderr",
     "output_type": "stream",
     "text": [
      "/users/PLS0150/ialadutska/data/CommonFramework/gnn4itk_cf/stages/edge_classifier/edge_classifier_stage.py:74: UserWarning: Failed to define figures of merit, due to logger unavailable\n",
      "  warnings.warn(\"Failed to define figures of merit, due to logger unavailable\")\n"
     ]
    }
   ],
   "source": [
    "from torch_geometric.loader import ShaDowKHopSampler\n",
    "\n",
    "config = yaml.load(open('gnn_train.yaml'), Loader=yaml.FullLoader)\n",
    "model = InteractionGNN(config)\n",
    "model.setup('fit')\n",
    "trainsetList = []\n",
    "\n",
    "for data1 in model.trainset:\n",
    "    my_data1 = Data(hit_id=data1[\"hit_id\"],x=data1[\"x\"], r=data1[\"r\"], phi=data1[\"phi\"], eta=data1[\"eta\"], y=data1[\"y\"], z=data1[\"z\"], edge_index=data1[\"edge_index\"], truth_map=data1[\"truth_map\"],weights=data1[\"weights\"])\n",
    "    trainsetList.append(my_data1)  #my_data1\n",
    "trainset = Batch.from_data_list(trainsetList)\n",
    "\n",
    "depth = 2\n",
    "num_neighbors = 5\n",
    "batch_size = 1\n",
    "\n",
    "sampler = ShaDowKHopSampler(trainset,depth = depth,num_neighbors=num_neighbors,node_idx = None,replace=False,batch_size=batch_size, shuffle=True)"
   ]
  },
  {
   "cell_type": "code",
   "execution_count": 12,
   "metadata": {},
   "outputs": [],
   "source": [
    "total_num_nodes = 0\n",
    "total_num_edges = 0\n",
    "results = []\n",
    "for step, sub_data in enumerate(sampler):\n",
    "    print(f'Step {step + 1}:')\n",
    "    print('=======')\n",
    "    print(f'Number of nodes in the current batch: {sub_data.num_nodes} and edges {sub_data.num_edges}')\n",
    "    print(sub_data)\n",
    "    print()\n",
    "    results.append(\n",
    "        {\n",
    "            'step': step,\n",
    "            'Nodes': sub_data.num_nodes,\n",
    "            'Edges':  sub_data.num_edges\n",
    "        })\n",
    "    total_num_nodes += sub_data.num_nodes\n",
    "    total_num_edges += sub_data.num_edges\n",
    "    if step == 4:\n",
    "        break\n",
    "    \n",
    "\n",
    "resultsDF =pd.DataFrame(results)\n",
    "plt.figure()\n",
    "sns.histplot(resultsDF, x=\"Nodes\", y=\"Edges\",cbar=True)\n",
    "print(\"Number of Neighbors: \", num_neighbors)\n",
    "print(\"Batch size: \", batch_size, \" Steps: \", step+1)\n",
    "print(f'Iterated over {total_num_nodes} of {trainset.num_nodes} nodes!')\n",
    "print(f'Iterated over {total_num_edges} of {trainset.num_edges} edges!')"
   ]
  },
  {
   "cell_type": "code",
   "execution_count": 22,
   "metadata": {},
   "outputs": [
    {
     "data": {
      "text/html": [
       "<div>\n",
       "<style scoped>\n",
       "    .dataframe tbody tr th:only-of-type {\n",
       "        vertical-align: middle;\n",
       "    }\n",
       "\n",
       "    .dataframe tbody tr th {\n",
       "        vertical-align: top;\n",
       "    }\n",
       "\n",
       "    .dataframe thead th {\n",
       "        text-align: right;\n",
       "    }\n",
       "</style>\n",
       "<table border=\"1\" class=\"dataframe\">\n",
       "  <thead>\n",
       "    <tr style=\"text-align: right;\">\n",
       "      <th></th>\n",
       "      <th>step</th>\n",
       "      <th>Nodes</th>\n",
       "      <th>Edges</th>\n",
       "    </tr>\n",
       "  </thead>\n",
       "  <tbody>\n",
       "    <tr>\n",
       "      <th>0</th>\n",
       "      <td>0</td>\n",
       "      <td>11311</td>\n",
       "      <td>22062</td>\n",
       "    </tr>\n",
       "    <tr>\n",
       "      <th>1</th>\n",
       "      <td>1</td>\n",
       "      <td>11198</td>\n",
       "      <td>21779</td>\n",
       "    </tr>\n",
       "    <tr>\n",
       "      <th>2</th>\n",
       "      <td>2</td>\n",
       "      <td>11414</td>\n",
       "      <td>22682</td>\n",
       "    </tr>\n",
       "    <tr>\n",
       "      <th>3</th>\n",
       "      <td>3</td>\n",
       "      <td>11452</td>\n",
       "      <td>22432</td>\n",
       "    </tr>\n",
       "    <tr>\n",
       "      <th>4</th>\n",
       "      <td>4</td>\n",
       "      <td>11211</td>\n",
       "      <td>22185</td>\n",
       "    </tr>\n",
       "  </tbody>\n",
       "</table>\n",
       "</div>"
      ],
      "text/plain": [
       "   step  Nodes  Edges\n",
       "0     0  11311  22062\n",
       "1     1  11198  21779\n",
       "2     2  11414  22682\n",
       "3     3  11452  22432\n",
       "4     4  11211  22185"
      ]
     },
     "execution_count": 22,
     "metadata": {},
     "output_type": "execute_result"
    }
   ],
   "source": [
    "resultsDF.head(10)"
   ]
  }
 ],
 "metadata": {
  "kernelspec": {
   "display_name": "umap3",
   "language": "python",
   "name": "python3"
  },
  "language_info": {
   "codemirror_mode": {
    "name": "ipython",
    "version": 3
   },
   "file_extension": ".py",
   "mimetype": "text/x-python",
   "name": "python",
   "nbconvert_exporter": "python",
   "pygments_lexer": "ipython3",
   "version": "3.9.15"
  }
 },
 "nbformat": 4,
 "nbformat_minor": 2
}
