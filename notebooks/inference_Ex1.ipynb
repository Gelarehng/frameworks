{
 "cells": [
  {
   "cell_type": "code",
   "execution_count": null,
   "id": "c330c597-e2b1-47fd-8e34-b63c1893e338",
   "metadata": {
    "tags": []
   },
   "outputs": [
    {
     "ename": "",
     "evalue": "",
     "output_type": "error",
     "traceback": [
      "\u001b[1;31mRunning cells with '/usr/bin/python3' requires the ipykernel package.\n",
      "\u001b[1;31mRun the following command to install 'ipykernel' into the Python environment. \n",
      "\u001b[1;31mCommand: '/usr/bin/python3 -m pip install ipykernel -U --user --force-reinstall'"
     ]
    }
   ],
   "source": [
    "%load_ext autoreload\n",
    "%autoreload 2\n",
    "\n",
    "import os\n",
    "import sys\n",
    "\n",
    "import numpy as np\n",
    "import pandas as pd\n",
    "import scipy.sparse as sps\n",
    "import yaml\n",
    "from itertools import chain, product, combinations\n",
    "import torch\n",
    "\n",
    "from time import time as tt\n",
    "from tqdm import tqdm\n",
    "\n",
    "from gnn4itk_cf.core.infer_stage import infer\n",
    "from gnn4itk_cf.core.eval_stage import evaluate\n",
    "\n",
    "from gnn4itk_cf.stages.data_reading.models.trackml_utils import *\n",
    "\n",
    "from gnn4itk_cf.stages.data_reading.data_reading_stage import EventReader\n",
    "from gnn4itk_cf.stages.data_reading.models.trackml_reader import TrackMLReader\n",
    "\n",
    "from gnn4itk_cf.stages.graph_construction.models.metric_learning import MetricLearning\n",
    "from gnn4itk_cf.stages.edge_classifier.models.filter import Filter\n",
    "from gnn4itk_cf.stages.edge_classifier import InteractionGNN\n",
    "\n",
    "from gnn4itk_cf.stages.graph_construction.utils import handle_weighting\n",
    "from gnn4itk_cf.stages.graph_construction.models.utils import graph_intersection, build_edges\n",
    "from gnn4itk_cf.stages.graph_construction.utils import *\n",
    "\n",
    "from gnn4itk_cf.stages.track_building import utils \n",
    "from torch_geometric.utils import to_scipy_sparse_matrix\n",
    "\n",
    "import gnn4itk_cf\n",
    "print(gnn4itk_cf.core.eval_stage.__file__)"
   ]
  },
  {
   "cell_type": "code",
   "execution_count": null,
   "id": "bf72a93b-2985-4add-bef6-14b444bc109c",
   "metadata": {
    "tags": []
   },
   "outputs": [
    {
     "ename": "",
     "evalue": "",
     "output_type": "error",
     "traceback": [
      "\u001b[1;31mRunning cells with '/usr/bin/python3' requires the ipykernel package.\n",
      "\u001b[1;31mRun the following command to install 'ipykernel' into the Python environment. \n",
      "\u001b[1;31mCommand: '/usr/bin/python3 -m pip install ipykernel -U --user --force-reinstall'"
     ]
    }
   ],
   "source": [
    "config_dr = \"../examples/Example_1/data_reader.yaml\"\n",
    "config_mm = \"../examples/Example_1/module_map_infer.yaml\"\n",
    "config_gnn = \"../examples/Example_1/gnn_infer.yaml\"\n",
    "config_tbi = \"../examples/Example_1/track_building_infer.yaml\"\n",
    "config_tbe = \"../examples/Example_1/track_building_eval.yaml\""
   ]
  },
  {
   "cell_type": "code",
   "execution_count": null,
   "id": "a49827ff-6a44-4013-8c70-f813a9cf5a16",
   "metadata": {},
   "outputs": [
    {
     "ename": "",
     "evalue": "",
     "output_type": "error",
     "traceback": [
      "\u001b[1;31mRunning cells with '/usr/bin/python3' requires the ipykernel package.\n",
      "\u001b[1;31mRun the following command to install 'ipykernel' into the Python environment. \n",
      "\u001b[1;31mCommand: '/usr/bin/python3 -m pip install ipykernel -U --user --force-reinstall'"
     ]
    }
   ],
   "source": [
    "#infer(config_dr )\n",
    "#infer(config_mm)\n",
    "#infer(config_gnn)\n",
    "#infer(config_tbi)\n",
    "evaluate(config_tbe,None)"
   ]
  },
  {
   "cell_type": "code",
   "execution_count": null,
   "id": "234a77cf-ca68-40a2-a0c5-dac4df83ab39",
   "metadata": {
    "tags": []
   },
   "outputs": [
    {
     "ename": "",
     "evalue": "",
     "output_type": "error",
     "traceback": [
      "\u001b[1;31mRunning cells with '/usr/bin/python3' requires the ipykernel package.\n",
      "\u001b[1;31mRun the following command to install 'ipykernel' into the Python environment. \n",
      "\u001b[1;31mCommand: '/usr/bin/python3 -m pip install ipykernel -U --user --force-reinstall'"
     ]
    }
   ],
   "source": [
    "with open(\"../examples/Example_2/metric_learning_train.yaml\", \"r\") as f:\n",
    "    config_ml = yaml.load(f, Loader=yaml.FullLoader)\n",
    "model_ml = MetricLearning(config_ml)\n",
    "with open(\"../examples/Example_1/gnn_train.yaml\", \"r\") as f:\n",
    "    config_gnn = yaml.load(f, Loader=yaml.FullLoader)\n",
    "model_gnn = InteractionGNN(config_gnn)\n",
    "config_tb = yaml.safe_load(open(\"../examples/Example_1/track_building_eval.yaml\", \"r\"))\n",
    "print(config_gnn['stage_dir']+'artifacts')"
   ]
  },
  {
   "cell_type": "code",
   "execution_count": null,
   "id": "01ed8d74-1707-4ba1-bf2f-c37eae79d3bd",
   "metadata": {
    "tags": []
   },
   "outputs": [
    {
     "ename": "",
     "evalue": "",
     "output_type": "error",
     "traceback": [
      "\u001b[1;31mRunning cells with '/usr/bin/python3' requires the ipykernel package.\n",
      "\u001b[1;31mRun the following command to install 'ipykernel' into the Python environment. \n",
      "\u001b[1;31mCommand: '/usr/bin/python3 -m pip install ipykernel -U --user --force-reinstall'"
     ]
    }
   ],
   "source": [
    "model_ml.setup(stage=\"predict\")\n",
    "dataloaders = model_ml.predict_dataloader()\n",
    "model_ml = model_ml.load_from_checkpoint(config_ml['stage_dir']+'artifacts/best.ckpt')\n",
    "model_gnn.setup('predict')\n",
    "dataloaders = model_gnn.predict_dataloader()\n",
    "model_gnn = model_gnn.load_from_checkpoint(config_gnn['stage_dir']+'artifacts/best.ckpt')\n",
    "dataloaders"
   ]
  },
  {
   "cell_type": "code",
   "execution_count": null,
   "id": "264c2529-af51-4a05-9327-25fb27dea5a1",
   "metadata": {
    "tags": []
   },
   "outputs": [
    {
     "ename": "",
     "evalue": "",
     "output_type": "error",
     "traceback": [
      "\u001b[1;31mRunning cells with '/usr/bin/python3' requires the ipykernel package.\n",
      "\u001b[1;31mRun the following command to install 'ipykernel' into the Python environment. \n",
      "\u001b[1;31mCommand: '/usr/bin/python3 -m pip install ipykernel -U --user --force-reinstall'"
     ]
    }
   ],
   "source": [
    "def evaluate_labelled_graphs(graphset, config):\n",
    "    all_y_truth, all_pt  = [], []\n",
    "    evaluated_events = [\n",
    "        utils.evaluate_labelled_graph(\n",
    "            event,\n",
    "            matching_fraction=config[\"matching_fraction\"],\n",
    "            matching_style=config[\"matching_style\"],\n",
    "            min_track_length=config[\"min_track_length\"],\n",
    "            min_particle_length=config[\"min_particle_length\"],\n",
    "        )\n",
    "        for event in tqdm(graphset)\n",
    "    ]\n",
    "    evaluated_events = pd.concat(evaluated_events)\n",
    "\n",
    "    particles = evaluated_events[evaluated_events[\"is_reconstructable\"]]\n",
    "    reconstructed_particles = particles[particles[\"is_reconstructed\"] & particles[\"is_matchable\"]]\n",
    "    tracks = evaluated_events[evaluated_events[\"is_matchable\"]]\n",
    "    matched_tracks = tracks[tracks[\"is_matched\"]]\n",
    "\n",
    "    n_particles = len(particles.drop_duplicates(subset=['event_id', 'particle_id']))\n",
    "    n_reconstructed_particles = len(reconstructed_particles.drop_duplicates(subset=['event_id', 'particle_id']))\n",
    "\n",
    "    n_tracks = len(tracks.drop_duplicates(subset=['event_id', 'track_id']))\n",
    "    n_matched_tracks = len(matched_tracks.drop_duplicates(subset=['event_id', 'track_id']))\n",
    "\n",
    "    n_dup_reconstructed_particles = len(reconstructed_particles) - n_reconstructed_particles\n",
    "\n",
    "    print(f\"Number of reconstructed particles: {n_reconstructed_particles}\")\n",
    "    print(f\"Number of particles: {n_particles}\")\n",
    "    print(f\"Number of matched tracks: {n_matched_tracks}\")\n",
    "    print(f\"Number of tracks: {n_tracks}\")\n",
    "    print(f\"Number of duplicate reconstructed particles: {n_dup_reconstructed_particles}\")   \n",
    "\n",
    "    # Plot the results across pT and eta\n",
    "    eff = n_reconstructed_particles / n_particles\n",
    "    fake_rate = 1 - (n_matched_tracks / n_tracks)\n",
    "    dup_rate = n_dup_reconstructed_particles / n_reconstructed_particles\n",
    "\n",
    "    logging.info(f\"Efficiency: {eff:.3f}\")\n",
    "    logging.info(f\"Fake rate: {fake_rate:.3f}\")\n",
    "    logging.info(f\"Duplication rate: {dup_rate:.3f}\")\n",
    "    print(f\"Efficiency: {eff:.3f}\")\n",
    "    print(f\"Fake rate: {fake_rate:.3f}\")\n",
    "    print(f\"Duplication rate: {dup_rate:.3f}\")"
   ]
  },
  {
   "cell_type": "code",
   "execution_count": null,
   "id": "adc991c8-481b-4411-8129-d1be7181e638",
   "metadata": {},
   "outputs": [
    {
     "ename": "",
     "evalue": "",
     "output_type": "error",
     "traceback": [
      "\u001b[1;31mRunning cells with '/usr/bin/python3' requires the ipykernel package.\n",
      "\u001b[1;31mRun the following command to install 'ipykernel' into the Python environment. \n",
      "\u001b[1;31mCommand: '/usr/bin/python3 -m pip install ipykernel -U --user --force-reinstall'"
     ]
    }
   ],
   "source": [
    "#     with torch.no_grad():\n",
    "#         if device == 'cuda':\n",
    "#             with torch.cuda.amp.autocast():\n",
    "#                 embedding = model_ml.apply_embedding(batch)\n",
    "     \n",
    "#     batch.edge_index = build_edges(\n",
    "#         query=embedding, database=embedding, indices=None, r_max=0.1, k_max=10, backend=\"FRNN\"\n",
    "#     )\n",
    "#     R = batch.r**2 + batch.z**2\n",
    "#     flip_edge_mask = R[batch.edge_index[0]] > R[batch.edge_index[1]]\n",
    "#     batch.edge_index[:, flip_edge_mask] = batch.edge_index[:, flip_edge_mask].flip(0)"
   ]
  },
  {
   "cell_type": "code",
   "execution_count": null,
   "id": "1a3184a2-7f5c-4df7-b9d4-168901351194",
   "metadata": {
    "tags": []
   },
   "outputs": [
    {
     "ename": "",
     "evalue": "",
     "output_type": "error",
     "traceback": [
      "\u001b[1;31mRunning cells with '/usr/bin/python3' requires the ipykernel package.\n",
      "\u001b[1;31mRun the following command to install 'ipykernel' into the Python environment. \n",
      "\u001b[1;31mCommand: '/usr/bin/python3 -m pip install ipykernel -U --user --force-reinstall'"
     ]
    }
   ],
   "source": [
    "device ='cuda'\n",
    "model_ml = model_ml.to(\"cuda\")\n",
    "model_gnn = model_gnn.to(\"cuda\")\n",
    "graphs = []\n",
    "for batch_idx, batch in enumerate(dataloaders[2]):\n",
    "    batch = batch.to(\"cuda\")    \n",
    "    gnn = model_gnn.shared_evaluation(batch,batch_idx)\n",
    "    batch = gnn['batch']\n",
    "    batch.truth_map = graph_intersection(\n",
    "            batch.edge_index,\n",
    "            batch.track_edges,\n",
    "            return_y_pred=False,\n",
    "            return_y_truth=False,\n",
    "            return_truth_to_pred=True,\n",
    "        )\n",
    "    edge_mask = gnn['output'] > model_gnn.hparams['edge_cut'] \n",
    "    # Get number of nodes\n",
    "    if hasattr(batch, \"num_nodes\"):\n",
    "        num_nodes = batch.num_nodes\n",
    "    elif hasattr(batch, \"x\"):\n",
    "        num_nodes = batch.x.size(0)\n",
    "    elif hasattr(batch, \"x_x\"):\n",
    "        num_nodes = batch.x_x.size(0)\n",
    "    else:\n",
    "        num_nodes = batch.edge_index.max().item() + 1\n",
    "    # Convert to sparse scipy array\n",
    "    sparse_edges = to_scipy_sparse_matrix(\n",
    "        batch.edge_index[:, edge_mask], num_nodes=num_nodes\n",
    "    )\n",
    "    # Run connected components\n",
    "    candidate_labels = sps.csgraph.connected_components(\n",
    "        sparse_edges, directed=False, return_labels=True\n",
    "    )\n",
    "    batch.labels = torch.from_numpy(candidate_labels[1]).long()\n",
    "    graphs.append(batch.to('cpu'))\n",
    "evaluate_labelled_graphs(graphs, config_tb)"
   ]
  }
 ],
 "metadata": {
  "kernelspec": {
   "display_name": "Python 3",
   "language": "python",
   "name": "python3"
  },
  "language_info": {
   "codemirror_mode": {
    "name": "ipython",
    "version": 3
   },
   "file_extension": ".py",
   "mimetype": "text/x-python",
   "name": "python",
   "nbconvert_exporter": "python",
   "pygments_lexer": "ipython3",
   "version": "3.8.10"
  }
 },
 "nbformat": 4,
 "nbformat_minor": 5
}
