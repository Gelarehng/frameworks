{
 "cells": [
  {
   "cell_type": "code",
   "execution_count": 1,
   "id": "5c021b9d-137a-4c69-87bf-95c198d59a46",
   "metadata": {},
   "outputs": [
    {
     "name": "stderr",
     "output_type": "stream",
     "text": [
      "/users/PLS0129/ysu0053/.conda/envs/torch/lib/python3.10/site-packages/tqdm/auto.py:21: TqdmWarning: IProgress not found. Please update jupyter and ipywidgets. See https://ipywidgets.readthedocs.io/en/stable/user_install.html\n",
      "  from .autonotebook import tqdm as notebook_tqdm\n",
      "/users/PLS0129/ysu0053/.conda/envs/torch/lib/python3.10/site-packages/torch_geometric/typing.py:18: UserWarning: An issue occurred while importing 'pyg-lib'. Disabling its usage. Stacktrace: libcudart.so.12: cannot open shared object file: No such file or directory\n",
      "  warnings.warn(f\"An issue occurred while importing 'pyg-lib'. \"\n",
      "/users/PLS0129/ysu0053/.conda/envs/torch/lib/python3.10/site-packages/torch_geometric/typing.py:42: UserWarning: An issue occurred while importing 'torch-sparse'. Disabling its usage. Stacktrace: libcudart.so.12: cannot open shared object file: No such file or directory\n",
      "  warnings.warn(f\"An issue occurred while importing 'torch-sparse'. \"\n",
      "WARNING:root:FRNN is not available, install it at https://github.com/murnanedaniel/FRNN. Using PyG radius instead.\n",
      "WARNING:root:cuDF not found, using pandas instead\n",
      "WARNING:root:cuDF not found, using pandas instead\n"
     ]
    }
   ],
   "source": [
    "%load_ext autoreload\n",
    "%autoreload 2\n",
    "\n",
    "import os\n",
    "import sys\n",
    "\n",
    "import numpy as np\n",
    "import pandas as pd\n",
    "import yaml\n",
    "from itertools import chain, product, combinations\n",
    "import torch\n",
    "\n",
    "from time import time as tt\n",
    "\n",
    "sys.path.append(\"../../../\")\n",
    "from gnn4itk_cf.stages.data_reading.models.trackml_utils import *\n",
    "\n",
    "from gnn4itk_cf.stages.data_reading.data_reading_stage import EventReader\n",
    "from gnn4itk_cf.stages.data_reading.models.trackml_reader import TrackMLReader\n",
    "\n",
    "from gnn4itk_cf.stages.graph_construction.models.metric_learning import MetricLearning\n",
    "from gnn4itk_cf.stages.edge_classifier.models.filter import Filter\n",
    "from gnn4itk_cf.stages.edge_classifier import InteractionGNN\n",
    "\n",
    "from gnn4itk_cf.stages.graph_construction.utils import handle_weighting\n",
    "from gnn4itk_cf.stages.graph_construction.models.utils import graph_intersection, build_edges\n",
    "from gnn4itk_cf.stages.graph_construction.utils import *"
   ]
  },
  {
   "cell_type": "code",
   "execution_count": 2,
   "id": "8e7629fe-9ab4-4cb0-ba3b-6b559d944eac",
   "metadata": {},
   "outputs": [],
   "source": [
    "#config_file = \"trackml_reader_config.yaml\"\n",
    "#config = yaml.load(open(config_file, \"r\"), Loader=yaml.FullLoader)"
   ]
  },
  {
   "cell_type": "code",
   "execution_count": 3,
   "id": "11461499-a863-48b9-86e9-5894aa5b1444",
   "metadata": {},
   "outputs": [
    {
     "data": {
      "text/plain": [
       "Data(hit_id=[93680], x=[93680], y=[93680], z=[93680], r=[93680], phi=[93680], eta=[93680], region=[93680], module_index=[93680], weight=[93680], cell_count=[93680], cell_val=[93680], leta=[93680], lphi=[93680], lx=[93680], ly=[93680], lz=[93680], geta=[93680], gphi=[93680], track_edges=[2, 68512], particle_id=[68512], pt=[68512], radius=[68512], nhits=[68512], config=[1], event_id='000001001')"
      ]
     },
     "execution_count": 3,
     "metadata": {},
     "output_type": "execute_result"
    }
   ],
   "source": [
    "input_dir = \"/fs/scratch/PLS0144/alina/TrackML_Results/Example_3/feature_store/trainset\"\n",
    "sample = torch.load(os.path.join(input_dir, \"event000001001-graph.pyg\"), map_location=\"cpu\")\n",
    "sample"
   ]
  },
  {
   "cell_type": "code",
   "execution_count": 4,
   "id": "b6e664a5-2c06-41b0-93b7-5d5bce997344",
   "metadata": {},
   "outputs": [],
   "source": [
    "with open(\"../examples/Example_3/metric_learning_train.yaml\", \"r\") as f:\n",
    "    config = yaml.load(f, Loader=yaml.FullLoader)\n",
    "model_ML = MetricLearning(config)\n",
    "with open(\"../examples/Example_3/filter_train.yaml\", \"r\") as f:\n",
    "    config = yaml.load(f, Loader=yaml.FullLoader)\n",
    "model_filter = Filter(config)\n",
    "with open(\"../examples/Example_3/gnn_train.yaml\", \"r\") as f:\n",
    "    config = yaml.load(f, Loader=yaml.FullLoader)\n",
    "model_gnn = InteractionGNN(config)"
   ]
  },
  {
   "cell_type": "code",
   "execution_count": 5,
   "id": "9270e69b-9f55-4c47-86c3-7386716e6766",
   "metadata": {},
   "outputs": [
    {
     "name": "stdout",
     "output_type": "stream",
     "text": [
      "Loaded 80 training events, 10 validation events and 10 testing events\n"
     ]
    },
    {
     "name": "stderr",
     "output_type": "stream",
     "text": [
      "/users/PLS0129/ysu0053/CommonFramework/gnn4itk_cf/utils/loading_utils.py:65: UserWarning: OPTIONAL feature [pid] not found in data\n",
      "  warnings.warn(f\"OPTIONAL feature [{feature}] not found in data\")\n",
      "/users/PLS0129/ysu0053/CommonFramework/gnn4itk_cf/utils/loading_utils.py:65: UserWarning: OPTIONAL feature [n_hits] not found in data\n",
      "  warnings.warn(f\"OPTIONAL feature [{feature}] not found in data\")\n",
      "/users/PLS0129/ysu0053/CommonFramework/gnn4itk_cf/utils/loading_utils.py:65: UserWarning: OPTIONAL feature [primary] not found in data\n",
      "  warnings.warn(f\"OPTIONAL feature [{feature}] not found in data\")\n",
      "/users/PLS0129/ysu0053/CommonFramework/gnn4itk_cf/utils/loading_utils.py:65: UserWarning: OPTIONAL feature [pdg_id] not found in data\n",
      "  warnings.warn(f\"OPTIONAL feature [{feature}] not found in data\")\n",
      "/users/PLS0129/ysu0053/CommonFramework/gnn4itk_cf/utils/loading_utils.py:65: UserWarning: OPTIONAL feature [ghost] not found in data\n",
      "  warnings.warn(f\"OPTIONAL feature [{feature}] not found in data\")\n",
      "/users/PLS0129/ysu0053/CommonFramework/gnn4itk_cf/utils/loading_utils.py:65: UserWarning: OPTIONAL feature [shared] not found in data\n",
      "  warnings.warn(f\"OPTIONAL feature [{feature}] not found in data\")\n",
      "/users/PLS0129/ysu0053/CommonFramework/gnn4itk_cf/utils/loading_utils.py:65: UserWarning: OPTIONAL feature [module_id] not found in data\n",
      "  warnings.warn(f\"OPTIONAL feature [{feature}] not found in data\")\n",
      "/users/PLS0129/ysu0053/CommonFramework/gnn4itk_cf/utils/loading_utils.py:65: UserWarning: OPTIONAL feature [region_id] not found in data\n",
      "  warnings.warn(f\"OPTIONAL feature [{feature}] not found in data\")\n",
      "/users/PLS0129/ysu0053/CommonFramework/gnn4itk_cf/utils/loading_utils.py:65: UserWarning: OPTIONAL feature [hit_id] not found in data\n",
      "  warnings.warn(f\"OPTIONAL feature [{feature}] not found in data\")\n",
      "/users/PLS0129/ysu0053/.conda/envs/torch/lib/python3.10/site-packages/torch_geometric/deprecation.py:22: UserWarning: 'data.DataLoader' is deprecated, use 'loader.DataLoader' instead\n",
      "  warnings.warn(out)\n",
      "/users/PLS0129/ysu0053/.conda/envs/torch/lib/python3.10/site-packages/torch/utils/data/dataloader.py:560: UserWarning: This DataLoader will create 16 worker processes in total. Our suggested max number of worker in current system is 2, which is smaller than what this DataLoader is going to create. Please be aware that excessive worker creation might get DataLoader running slow or even freeze, lower the worker number to avoid potential slowness/freeze if necessary.\n",
      "  warnings.warn(_create_warning_msg(\n",
      "/users/PLS0129/ysu0053/CommonFramework/gnn4itk_cf/utils/loading_utils.py:65: UserWarning: OPTIONAL feature [particle_id] not found in data\n",
      "  warnings.warn(f\"OPTIONAL feature [{feature}] not found in data\")\n",
      "/users/PLS0129/ysu0053/CommonFramework/gnn4itk_cf/utils/loading_utils.py:65: UserWarning: OPTIONAL feature [nhits] not found in data\n",
      "  warnings.warn(f\"OPTIONAL feature [{feature}] not found in data\")\n",
      "/users/PLS0129/ysu0053/CommonFramework/gnn4itk_cf/utils/loading_utils.py:65: UserWarning: OPTIONAL feature [pdgId] not found in data\n",
      "  warnings.warn(f\"OPTIONAL feature [{feature}] not found in data\")\n",
      "/users/PLS0129/ysu0053/CommonFramework/gnn4itk_cf/utils/loading_utils.py:65: UserWarning: OPTIONAL feature [region] not found in data\n",
      "  warnings.warn(f\"OPTIONAL feature [{feature}] not found in data\")\n",
      "/users/PLS0129/ysu0053/CommonFramework/gnn4itk_cf/utils/loading_utils.py:65: UserWarning: OPTIONAL feature [pt] not found in data\n",
      "  warnings.warn(f\"OPTIONAL feature [{feature}] not found in data\")\n"
     ]
    },
    {
     "name": "stdout",
     "output_type": "stream",
     "text": [
      "Defining figures of merit\n"
     ]
    },
    {
     "name": "stderr",
     "output_type": "stream",
     "text": [
      "/users/PLS0129/ysu0053/CommonFramework/gnn4itk_cf/stages/edge_classifier/edge_classifier_stage.py:105: UserWarning: Failed to define figures of merit, due to logger unavailable\n",
      "  warnings.warn(\"Failed to define figures of merit, due to logger unavailable\")\n"
     ]
    },
    {
     "name": "stdout",
     "output_type": "stream",
     "text": [
      "Defining figures of merit\n"
     ]
    }
   ],
   "source": [
    "model_ML.setup(stage=\"predict\")\n",
    "dataloaders = model_ML.predict_dataloader()\n",
    "#dataloaders[2].dataset.__dict__\n",
    "model_filter.setup('predict')\n",
    "model_gnn.setup('predict')"
   ]
  },
  {
   "cell_type": "code",
   "execution_count": 6,
   "id": "bdfa0220-17ab-461b-929a-3b48a29a5c8e",
   "metadata": {},
   "outputs": [
    {
     "name": "stdout",
     "output_type": "stream",
     "text": [
      "tensor([-0.2744, -0.2815, -0.2762,  ..., -0.4961, -0.4754, -0.4470],\n",
      "       device='cuda:0', grad_fn=<SqueezeBackward1>)\n",
      "tensor([-0.2607, -0.2737, -0.3098,  ..., -0.6105, -0.5101, -0.5170],\n",
      "       device='cuda:0', grad_fn=<SqueezeBackward1>)\n",
      "tensor([-0.3479, -0.3113, -0.3837,  ..., -0.5017, -0.5604, -0.6177],\n",
      "       device='cuda:0', grad_fn=<SqueezeBackward1>)\n",
      "tensor([-0.3675, -0.3179, -0.2909,  ..., -0.3837, -0.3564, -0.3487],\n",
      "       device='cuda:0', grad_fn=<SqueezeBackward1>)\n",
      "tensor([-0.1912, -0.1819, -0.3027,  ..., -0.6042, -0.6206, -0.3956],\n",
      "       device='cuda:0', grad_fn=<SqueezeBackward1>)\n",
      "tensor([-0.3544, -0.2981, -0.3024,  ...,  0.0816, -0.3910, -0.7525],\n",
      "       device='cuda:0', grad_fn=<SqueezeBackward1>)\n",
      "tensor([-0.3228, -0.3546, -0.3224,  ..., -0.1380, -0.1942, -0.1899],\n",
      "       device='cuda:0', grad_fn=<SqueezeBackward1>)\n",
      "tensor([-0.2810, -0.2733, -0.3419,  ..., -0.4334, -0.4855, -0.5197],\n",
      "       device='cuda:0', grad_fn=<SqueezeBackward1>)\n",
      "tensor([-0.2644, -0.3559, -0.3438,  ..., -0.3018, -0.3609, -0.5289],\n",
      "       device='cuda:0', grad_fn=<SqueezeBackward1>)\n",
      "tensor([-0.3005, -0.2673, -0.2811,  ..., -0.4690, -0.4370, -0.4365],\n",
      "       device='cuda:0', grad_fn=<SqueezeBackward1>)\n"
     ]
    }
   ],
   "source": [
    "model_ML = model_ML.to(\"cuda\")\n",
    "model_filter = model_filter.to(\"cuda\")\n",
    "model_gnn = model_gnn.to(\"cuda\")\n",
    "for batch in dataloaders[2]:\n",
    "    batch = batch.to(\"cuda\")\n",
    "    with torch.no_grad():\n",
    "        embedding = model_ML.apply_embedding(batch)\n",
    "     \n",
    "    batch.edge_index = build_edges(\n",
    "        query=embedding, database=embedding, indices=None, r_max=0.1, k_max=10, backend=\"FRNN\"\n",
    "    )\n",
    "    R = batch.r**2 + batch.z**2\n",
    "    flip_edge_mask = R[batch.edge_index[0]] > R[batch.edge_index[1]]\n",
    "    batch.edge_index[:, flip_edge_mask] = batch.edge_index[:, flip_edge_mask].flip(0)\n",
    "    #out = model_filter(batch)   \n",
    "    #preds = torch.sigmoid(out) > 0.5\n",
    "    #update batch.edge_index\n",
    "    out = model_gnn(batch)\n",
    "    preds = torch.sigmoid(out) > 0.5\n",
    "    sample=batch\n",
    "    print(out)"
   ]
  },
  {
   "cell_type": "code",
   "execution_count": 8,
   "id": "3c27745e-70f2-49a7-b8e6-91d755dc9426",
   "metadata": {},
   "outputs": [
    {
     "ename": "AttributeError",
     "evalue": "module 'torch.onnx' has no attribute 'dynamo_export'",
     "output_type": "error",
     "traceback": [
      "\u001b[0;31m---------------------------------------------------------------------------\u001b[0m",
      "\u001b[0;31mAttributeError\u001b[0m                            Traceback (most recent call last)",
      "Cell \u001b[0;32mIn[8], line 1\u001b[0m\n\u001b[0;32m----> 1\u001b[0m export_output \u001b[38;5;241m=\u001b[39m \u001b[43mtorch\u001b[49m\u001b[38;5;241;43m.\u001b[39;49m\u001b[43monnx\u001b[49m\u001b[38;5;241;43m.\u001b[39;49m\u001b[43mdynamo_export\u001b[49m(model_filter, sample)\n",
      "\u001b[0;31mAttributeError\u001b[0m: module 'torch.onnx' has no attribute 'dynamo_export'"
     ]
    }
   ],
   "source": [
    "export_output = torch.onnx.dynamo_export(model_filter, sample)"
   ]
  },
  {
   "cell_type": "code",
   "execution_count": null,
   "id": "87ef95c8-8c1b-493b-b018-63b00e434fd8",
   "metadata": {},
   "outputs": [],
   "source": []
  }
 ],
 "metadata": {
  "kernelspec": {
   "display_name": "Torch",
   "language": "python",
   "name": "torch"
  },
  "language_info": {
   "codemirror_mode": {
    "name": "ipython",
    "version": 3
   },
   "file_extension": ".py",
   "mimetype": "text/x-python",
   "name": "python",
   "nbconvert_exporter": "python",
   "pygments_lexer": "ipython3",
   "version": "3.10.12"
  }
 },
 "nbformat": 4,
 "nbformat_minor": 5
}
