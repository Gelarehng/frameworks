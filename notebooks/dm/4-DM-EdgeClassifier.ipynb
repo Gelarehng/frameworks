{
 "cells": [
  {
   "attachments": {},
   "cell_type": "markdown",
   "metadata": {},
   "source": [
    "# Edge Classifier Debug"
   ]
  },
  {
   "cell_type": "markdown",
   "metadata": {},
   "source": [
    "**Goal**: Test the weighting and hard cut config of the data loading process"
   ]
  },
  {
   "cell_type": "code",
   "execution_count": 1,
   "metadata": {},
   "outputs": [
    {
     "name": "stderr",
     "output_type": "stream",
     "text": [
      "/opt/conda/lib/python3.8/site-packages/tqdm/auto.py:22: TqdmWarning: IProgress not found. Please update jupyter and ipywidgets. See https://ipywidgets.readthedocs.io/en/stable/user_install.html\n",
      "  from .autonotebook import tqdm as notebook_tqdm\n",
      "/opt/conda/lib/python3.8/site-packages/torch_geometric/typing.py:18: UserWarning: An issue occurred while importing 'pyg-lib'. Disabling its usage. Stacktrace: libtorch_cuda_cpp.so: cannot open shared object file: No such file or directory\n",
      "  warnings.warn(f\"An issue occurred while importing 'pyg-lib'. \"\n",
      "/opt/conda/lib/python3.8/site-packages/torch_geometric/typing.py:42: UserWarning: An issue occurred while importing 'torch-sparse'. Disabling its usage. Stacktrace: /opt/conda/lib/python3.8/site-packages/torch_sparse/_version_cuda.so: undefined symbol: _ZN5torch3jit17parseSchemaOrNameERKSs\n",
      "  warnings.warn(f\"An issue occurred while importing 'torch-sparse'. \"\n"
     ]
    },
    {
     "name": "stdout",
     "output_type": "stream",
     "text": [
      "['/workspaces/CommonFramework/notebooks/testing', '/opt/conda/lib/python38.zip', '/opt/conda/lib/python3.8', '/opt/conda/lib/python3.8/lib-dynload', '', '/opt/conda/lib/python3.8/site-packages', '/opt/conda/lib/python3.8/site-packages/torchtext-0.12.0a0-py3.8-linux-x86_64.egg', '/workspaces/CommonFramework']\n"
     ]
    }
   ],
   "source": [
    "%load_ext autoreload\n",
    "%autoreload 2\n",
    "\n",
    "import os\n",
    "import yaml\n",
    "\n",
    "import numpy as np\n",
    "import pandas as pd\n",
    "import seaborn as sns\n",
    "import yaml\n",
    "import torch\n",
    "from torch_geometric.data import Data\n",
    "import matplotlib.pyplot as plt\n",
    "\n",
    "from time import time as tt\n",
    "\n",
    "import sys\n",
    "print(sys.path)"
   ]
  },
  {
   "cell_type": "code",
   "execution_count": 2,
   "metadata": {},
   "outputs": [
    {
     "name": "stdout",
     "output_type": "stream",
     "text": [
      "True\n",
      "0\n",
      "11.6\n",
      "1\n",
      "_CudaDeviceProperties(name='NVIDIA GeForce RTX 2080 Super with Max-Q Design', major=7, minor=5, total_memory=8191MB, multi_processor_count=48)\n",
      "NVIDIA GeForce RTX 2080 Super with Max-Q Design\n",
      "1.12.0a0+2c916ef\n",
      "['sm_52', 'sm_60', 'sm_61', 'sm_70', 'sm_75', 'sm_80', 'sm_86', 'compute_86']\n"
     ]
    }
   ],
   "source": [
    "print(torch.cuda.is_available())\n",
    "print(torch.cuda.current_device())\n",
    "print(torch.version.cuda)\n",
    "print(torch.cuda.device_count())\n",
    "print(torch.cuda.get_device_properties(\"cuda:0\"))\n",
    "print(torch.cuda.get_device_name(\"cuda:0\"))\n",
    "print(torch.__version__)\n",
    "print(torch.cuda.get_arch_list())"
   ]
  },
  {
   "cell_type": "code",
   "execution_count": 3,
   "metadata": {},
   "outputs": [],
   "source": [
    "import torch_scatter\n",
    "import torch_spline_conv"
   ]
  },
  {
   "cell_type": "code",
   "execution_count": 4,
   "metadata": {},
   "outputs": [
    {
     "data": {
      "text/plain": [
       "tensor(crow_indices=tensor([0, 2, 4]),\n",
       "       col_indices=tensor([0, 1, 0, 1]),\n",
       "       values=tensor([1., 2., 3., 4.]), size=(2, 2), nnz=4,\n",
       "       dtype=torch.float64, layout=torch.sparse_csr)"
      ]
     },
     "execution_count": 4,
     "metadata": {},
     "output_type": "execute_result"
    }
   ],
   "source": [
    "crow_indices = [0, 2, 4]\n",
    "col_indices = [0, 1, 0, 1]\n",
    "values = [1, 2, 3, 4]\n",
    "torch.sparse_csr_tensor(torch.tensor(crow_indices,dtype=torch.int64),torch.tensor(col_indices, dtype=torch.int64),torch.tensor(values),dtype=torch.double)"
   ]
  },
  {
   "cell_type": "code",
   "execution_count": 5,
   "metadata": {},
   "outputs": [],
   "source": [
    "import torch\n",
    "from torch_scatter import scatter_max\n",
    "\n",
    "src = torch.tensor([[2, 0, 1, 4, 3], [0, 2, 1, 3, 4]])\n",
    "index = torch.tensor([[4, 5, 4, 2, 3], [0, 0, 2, 2, 1]])\n",
    "\n",
    "out, argmax = scatter_max(src, index, dim=-1)"
   ]
  },
  {
   "cell_type": "code",
   "execution_count": 8,
   "metadata": {},
   "outputs": [
    {
     "ename": "OSError",
     "evalue": "/opt/conda/lib/python3.8/site-packages/torch_sparse/_version_cuda.so: undefined symbol: _ZN5torch3jit17parseSchemaOrNameERKSs",
     "output_type": "error",
     "traceback": [
      "\u001b[0;31m---------------------------------------------------------------------------\u001b[0m",
      "\u001b[0;31mOSError\u001b[0m                                   Traceback (most recent call last)",
      "\u001b[1;32m/workspaces/CommonFramework/notebooks/testing/4-DM-EdgeClassifier.ipynb Cell 8\u001b[0m in \u001b[0;36m<cell line: 1>\u001b[0;34m()\u001b[0m\n\u001b[0;32m----> <a href='vscode-notebook-cell://dev-container%2B7b22686f737450617468223a225c5c5c5c77736c2e6c6f63616c686f73745c5c5562756e74752d32302e30345c5c686f6d655c5c616c696e616c5c5c70726f6a656374735c5c436f6d6d6f6e4672616d65776f726b222c22636f6e66696746696c65223a7b22246d6964223a312c2270617468223a222f686f6d652f616c696e616c2f70726f6a656374732f436f6d6d6f6e4672616d65776f726b2f2e646576636f6e7461696e65722f646576636f6e7461696e65722e6a736f6e222c22736368656d65223a227673636f64652d66696c65486f7374227d7d/workspaces/CommonFramework/notebooks/testing/4-DM-EdgeClassifier.ipynb#X10sdnNjb2RlLXJlbW90ZQ%3D%3D?line=0'>1</a>\u001b[0m \u001b[39mimport\u001b[39;00m \u001b[39mtorch_sparse\u001b[39;00m\n",
      "File \u001b[0;32m/opt/conda/lib/python3.8/site-packages/torch_sparse/__init__.py:19\u001b[0m, in \u001b[0;36m<module>\u001b[0;34m\u001b[0m\n\u001b[1;32m     17\u001b[0m spec \u001b[39m=\u001b[39m cuda_spec \u001b[39mor\u001b[39;00m cpu_spec\n\u001b[1;32m     18\u001b[0m \u001b[39mif\u001b[39;00m spec \u001b[39mis\u001b[39;00m \u001b[39mnot\u001b[39;00m \u001b[39mNone\u001b[39;00m:\n\u001b[0;32m---> 19\u001b[0m     torch\u001b[39m.\u001b[39;49mops\u001b[39m.\u001b[39;49mload_library(spec\u001b[39m.\u001b[39;49morigin)\n\u001b[1;32m     20\u001b[0m \u001b[39melse\u001b[39;00m:  \u001b[39m# pragma: no cover\u001b[39;00m\n\u001b[1;32m     21\u001b[0m     \u001b[39mraise\u001b[39;00m \u001b[39mImportError\u001b[39;00m(\u001b[39mf\u001b[39m\u001b[39m\"\u001b[39m\u001b[39mCould not find module \u001b[39m\u001b[39m'\u001b[39m\u001b[39m{\u001b[39;00mlibrary\u001b[39m}\u001b[39;00m\u001b[39m_cpu\u001b[39m\u001b[39m'\u001b[39m\u001b[39m in \u001b[39m\u001b[39m\"\u001b[39m\n\u001b[1;32m     22\u001b[0m                       \u001b[39mf\u001b[39m\u001b[39m\"\u001b[39m\u001b[39m{\u001b[39;00mosp\u001b[39m.\u001b[39mdirname(\u001b[39m__file__\u001b[39m)\u001b[39m}\u001b[39;00m\u001b[39m\"\u001b[39m)\n",
      "File \u001b[0;32m/opt/conda/lib/python3.8/site-packages/torch/_ops.py:244\u001b[0m, in \u001b[0;36m_Ops.load_library\u001b[0;34m(self, path)\u001b[0m\n\u001b[1;32m    239\u001b[0m path \u001b[39m=\u001b[39m torch\u001b[39m.\u001b[39m_utils_internal\u001b[39m.\u001b[39mresolve_library_path(path)\n\u001b[1;32m    240\u001b[0m \u001b[39mwith\u001b[39;00m dl_open_guard():\n\u001b[1;32m    241\u001b[0m     \u001b[39m# Import the shared library into the process, thus running its\u001b[39;00m\n\u001b[1;32m    242\u001b[0m     \u001b[39m# static (global) initialization code in order to register custom\u001b[39;00m\n\u001b[1;32m    243\u001b[0m     \u001b[39m# operators with the JIT.\u001b[39;00m\n\u001b[0;32m--> 244\u001b[0m     ctypes\u001b[39m.\u001b[39;49mCDLL(path)\n\u001b[1;32m    245\u001b[0m \u001b[39mself\u001b[39m\u001b[39m.\u001b[39mloaded_libraries\u001b[39m.\u001b[39madd(path)\n",
      "File \u001b[0;32m/opt/conda/lib/python3.8/ctypes/__init__.py:373\u001b[0m, in \u001b[0;36mCDLL.__init__\u001b[0;34m(self, name, mode, handle, use_errno, use_last_error, winmode)\u001b[0m\n\u001b[1;32m    370\u001b[0m \u001b[39mself\u001b[39m\u001b[39m.\u001b[39m_FuncPtr \u001b[39m=\u001b[39m _FuncPtr\n\u001b[1;32m    372\u001b[0m \u001b[39mif\u001b[39;00m handle \u001b[39mis\u001b[39;00m \u001b[39mNone\u001b[39;00m:\n\u001b[0;32m--> 373\u001b[0m     \u001b[39mself\u001b[39m\u001b[39m.\u001b[39m_handle \u001b[39m=\u001b[39m _dlopen(\u001b[39mself\u001b[39;49m\u001b[39m.\u001b[39;49m_name, mode)\n\u001b[1;32m    374\u001b[0m \u001b[39melse\u001b[39;00m:\n\u001b[1;32m    375\u001b[0m     \u001b[39mself\u001b[39m\u001b[39m.\u001b[39m_handle \u001b[39m=\u001b[39m handle\n",
      "\u001b[0;31mOSError\u001b[0m: /opt/conda/lib/python3.8/site-packages/torch_sparse/_version_cuda.so: undefined symbol: _ZN5torch3jit17parseSchemaOrNameERKSs"
     ]
    }
   ],
   "source": [
    "import torch_sparse"
   ]
  },
  {
   "cell_type": "code",
   "execution_count": 7,
   "metadata": {},
   "outputs": [],
   "source": [
    "import numba\n",
    "import cudf"
   ]
  },
  {
   "attachments": {},
   "cell_type": "markdown",
   "metadata": {},
   "source": [
    "## GNN Debug"
   ]
  },
  {
   "cell_type": "code",
   "execution_count": 7,
   "metadata": {},
   "outputs": [
    {
     "name": "stdout",
     "output_type": "stream",
     "text": [
      "NOTE! Installing ujson may make loading annotations faster.\n"
     ]
    },
    {
     "name": "stderr",
     "output_type": "stream",
     "text": [
      "WARNING:root:FRNN is not available, install it at https://github.com/murnanedaniel/FRNN. Using PyG radius instead.\n"
     ]
    }
   ],
   "source": [
    "from gnn4itk_cf.stages.edge_classifier.models.interaction_gnn import InteractionGNN"
   ]
  },
  {
   "cell_type": "code",
   "execution_count": 9,
   "metadata": {},
   "outputs": [],
   "source": [
    "config = yaml.load(open('trackml_gnn_train.yaml'), Loader=yaml.FullLoader)"
   ]
  },
  {
   "cell_type": "code",
   "execution_count": 10,
   "metadata": {},
   "outputs": [],
   "source": [
    "model = InteractionGNN(config)"
   ]
  },
  {
   "cell_type": "code",
   "execution_count": 11,
   "metadata": {},
   "outputs": [
    {
     "ename": "AssertionError",
     "evalue": "No data files found in /global/cfs/cdirs/m3443/data/GNN4ITK/CommonFrameworkExamples/Example_3_Dev/metric_learning/trainset",
     "output_type": "error",
     "traceback": [
      "\u001b[0;31m---------------------------------------------------------------------------\u001b[0m",
      "\u001b[0;31mAssertionError\u001b[0m                            Traceback (most recent call last)",
      "\u001b[1;32m/workspaces/CommonFramework/notebooks/testing/4-DM-EdgeClassifier.ipynb Cell 14\u001b[0m in \u001b[0;36m<cell line: 1>\u001b[0;34m()\u001b[0m\n\u001b[0;32m----> <a href='vscode-notebook-cell://dev-container%2B7b22686f737450617468223a225c5c5c5c77736c2e6c6f63616c686f73745c5c5562756e74752d32302e30345c5c686f6d655c5c616c696e616c5c5c70726f6a656374735c5c436f6d6d6f6e4672616d65776f726b222c22636f6e66696746696c65223a7b22246d6964223a312c2270617468223a222f686f6d652f616c696e616c2f70726f6a656374732f436f6d6d6f6e4672616d65776f726b2f2e646576636f6e7461696e65722f646576636f6e7461696e65722e6a736f6e222c22736368656d65223a227673636f64652d66696c65486f7374227d7d/workspaces/CommonFramework/notebooks/testing/4-DM-EdgeClassifier.ipynb#X16sdnNjb2RlLXJlbW90ZQ%3D%3D?line=0'>1</a>\u001b[0m model\u001b[39m.\u001b[39;49msetup(\u001b[39m'\u001b[39;49m\u001b[39mfit\u001b[39;49m\u001b[39m'\u001b[39;49m)\n",
      "File \u001b[0;32m/workspaces/CommonFramework/gnn4itk_cf/stages/edge_classifier/edge_classifier_stage.py:61\u001b[0m, in \u001b[0;36mEdgeClassifierStage.setup\u001b[0;34m(self, stage)\u001b[0m\n\u001b[1;32m     53\u001b[0m \u001b[39m\"\"\"\u001b[39;00m\n\u001b[1;32m     54\u001b[0m \u001b[39mThe setup logic of the stage.\u001b[39;00m\n\u001b[1;32m     55\u001b[0m \u001b[39m1. Setup the data for training, validation and testing.\u001b[39;00m\n\u001b[1;32m     56\u001b[0m \u001b[39m2. Run tests to ensure data is of the right format and loaded correctly.\u001b[39;00m\n\u001b[1;32m     57\u001b[0m \u001b[39m3. Construct the truth and weighting labels for the model training\u001b[39;00m\n\u001b[1;32m     58\u001b[0m \u001b[39m\"\"\"\u001b[39;00m\n\u001b[1;32m     60\u001b[0m \u001b[39mif\u001b[39;00m stage \u001b[39min\u001b[39;00m [\u001b[39m\"\u001b[39m\u001b[39mfit\u001b[39m\u001b[39m\"\u001b[39m, \u001b[39m\"\u001b[39m\u001b[39mpredict\u001b[39m\u001b[39m\"\u001b[39m]:\n\u001b[0;32m---> 61\u001b[0m     \u001b[39mself\u001b[39;49m\u001b[39m.\u001b[39;49mload_data(stage, \u001b[39mself\u001b[39;49m\u001b[39m.\u001b[39;49mhparams[\u001b[39m\"\u001b[39;49m\u001b[39minput_dir\u001b[39;49m\u001b[39m\"\u001b[39;49m])\n\u001b[1;32m     62\u001b[0m     \u001b[39mself\u001b[39m\u001b[39m.\u001b[39mtest_data(stage)\n\u001b[1;32m     63\u001b[0m \u001b[39melif\u001b[39;00m stage \u001b[39m==\u001b[39m \u001b[39m\"\u001b[39m\u001b[39mtest\u001b[39m\u001b[39m\"\u001b[39m:\n",
      "File \u001b[0;32m/workspaces/CommonFramework/gnn4itk_cf/stages/edge_classifier/edge_classifier_stage.py:81\u001b[0m, in \u001b[0;36mEdgeClassifierStage.load_data\u001b[0;34m(self, stage, input_dir)\u001b[0m\n\u001b[1;32m     79\u001b[0m \u001b[39mfor\u001b[39;00m data_name, data_num \u001b[39min\u001b[39;00m \u001b[39mzip\u001b[39m([\u001b[39m\"\u001b[39m\u001b[39mtrainset\u001b[39m\u001b[39m\"\u001b[39m, \u001b[39m\"\u001b[39m\u001b[39mvalset\u001b[39m\u001b[39m\"\u001b[39m, \u001b[39m\"\u001b[39m\u001b[39mtestset\u001b[39m\u001b[39m\"\u001b[39m], \u001b[39mself\u001b[39m\u001b[39m.\u001b[39mhparams[\u001b[39m\"\u001b[39m\u001b[39mdata_split\u001b[39m\u001b[39m\"\u001b[39m]):\n\u001b[1;32m     80\u001b[0m     \u001b[39mif\u001b[39;00m data_num \u001b[39m>\u001b[39m \u001b[39m0\u001b[39m:\n\u001b[0;32m---> 81\u001b[0m         dataset \u001b[39m=\u001b[39m \u001b[39mself\u001b[39;49m\u001b[39m.\u001b[39;49mdataset_class(input_dir, data_name, data_num, stage, \u001b[39mself\u001b[39;49m\u001b[39m.\u001b[39;49mhparams)\n\u001b[1;32m     82\u001b[0m         \u001b[39msetattr\u001b[39m(\u001b[39mself\u001b[39m, data_name, dataset)\n",
      "File \u001b[0;32m/workspaces/CommonFramework/gnn4itk_cf/stages/edge_classifier/edge_classifier_stage.py:455\u001b[0m, in \u001b[0;36mGraphDataset.__init__\u001b[0;34m(self, input_dir, data_name, num_events, stage, hparams, transform, pre_transform, pre_filter)\u001b[0m\n\u001b[1;32m    452\u001b[0m \u001b[39mself\u001b[39m\u001b[39m.\u001b[39mnum_events \u001b[39m=\u001b[39m num_events\n\u001b[1;32m    453\u001b[0m \u001b[39mself\u001b[39m\u001b[39m.\u001b[39mstage \u001b[39m=\u001b[39m stage\n\u001b[0;32m--> 455\u001b[0m \u001b[39mself\u001b[39m\u001b[39m.\u001b[39minput_paths \u001b[39m=\u001b[39m load_datafiles_in_dir(\u001b[39mself\u001b[39;49m\u001b[39m.\u001b[39;49minput_dir, \u001b[39mself\u001b[39;49m\u001b[39m.\u001b[39;49mdata_name, \u001b[39mself\u001b[39;49m\u001b[39m.\u001b[39;49mnum_events)\n\u001b[1;32m    456\u001b[0m \u001b[39mself\u001b[39m\u001b[39m.\u001b[39minput_paths\u001b[39m.\u001b[39msort()\n",
      "File \u001b[0;32m/workspaces/CommonFramework/gnn4itk_cf/utils/loading_utils.py:28\u001b[0m, in \u001b[0;36mload_datafiles_in_dir\u001b[0;34m(input_dir, data_name, data_num)\u001b[0m\n\u001b[1;32m     25\u001b[0m     input_dir \u001b[39m=\u001b[39m os\u001b[39m.\u001b[39mpath\u001b[39m.\u001b[39mjoin(input_dir, data_name)\n\u001b[1;32m     27\u001b[0m data_files \u001b[39m=\u001b[39m [\u001b[39mstr\u001b[39m(path) \u001b[39mfor\u001b[39;00m path \u001b[39min\u001b[39;00m Path(input_dir)\u001b[39m.\u001b[39mrglob(\u001b[39m\"\u001b[39m\u001b[39m*.pyg\u001b[39m\u001b[39m\"\u001b[39m)][:data_num]\n\u001b[0;32m---> 28\u001b[0m \u001b[39massert\u001b[39;00m \u001b[39mlen\u001b[39m(data_files) \u001b[39m>\u001b[39m \u001b[39m0\u001b[39m, \u001b[39mf\u001b[39m\u001b[39m\"\u001b[39m\u001b[39mNo data files found in \u001b[39m\u001b[39m{\u001b[39;00minput_dir\u001b[39m}\u001b[39;00m\u001b[39m\"\u001b[39m\n\u001b[1;32m     29\u001b[0m \u001b[39mif\u001b[39;00m data_num \u001b[39mis\u001b[39;00m \u001b[39mnot\u001b[39;00m \u001b[39mNone\u001b[39;00m:\n\u001b[1;32m     30\u001b[0m     \u001b[39massert\u001b[39;00m \u001b[39mlen\u001b[39m(data_files) \u001b[39m==\u001b[39m data_num, \u001b[39mf\u001b[39m\u001b[39m\"\u001b[39m\u001b[39mNumber of data files found (\u001b[39m\u001b[39m{\u001b[39;00m\u001b[39mlen\u001b[39m(data_files)\u001b[39m}\u001b[39;00m\u001b[39m) is less than the number requested (\u001b[39m\u001b[39m{\u001b[39;00mdata_num\u001b[39m}\u001b[39;00m\u001b[39m)\u001b[39m\u001b[39m\"\u001b[39m\n",
      "\u001b[0;31mAssertionError\u001b[0m: No data files found in /global/cfs/cdirs/m3443/data/GNN4ITK/CommonFrameworkExamples/Example_3_Dev/metric_learning/trainset"
     ]
    }
   ],
   "source": [
    "model.setup('fit')"
   ]
  },
  {
   "cell_type": "code",
   "execution_count": null,
   "metadata": {},
   "outputs": [],
   "source": [
    "sample = model.trainset[0]"
   ]
  },
  {
   "cell_type": "code",
   "execution_count": null,
   "metadata": {},
   "outputs": [],
   "source": [
    "sample"
   ]
  },
  {
   "cell_type": "code",
   "execution_count": null,
   "metadata": {},
   "outputs": [],
   "source": [
    "graph_sizes = [sample.edge_index.shape[1] for sample in model.trainset]"
   ]
  },
  {
   "cell_type": "code",
   "execution_count": null,
   "metadata": {},
   "outputs": [],
   "source": [
    "sns.distplot(graph_sizes)"
   ]
  },
  {
   "attachments": {},
   "cell_type": "markdown",
   "metadata": {},
   "source": [
    "## Metric Debug"
   ]
  },
  {
   "cell_type": "code",
   "execution_count": null,
   "metadata": {},
   "outputs": [],
   "source": [
    "%%time\n",
    "with torch.no_grad():\n",
    "    out = model.to(\"cuda\")(sample.to(\"cuda\"))"
   ]
  },
  {
   "cell_type": "code",
   "execution_count": null,
   "metadata": {},
   "outputs": [],
   "source": [
    "sns.distplot(torch.sigmoid(out).cpu())"
   ]
  },
  {
   "cell_type": "code",
   "execution_count": null,
   "metadata": {},
   "outputs": [],
   "source": [
    "sample"
   ]
  },
  {
   "cell_type": "code",
   "execution_count": null,
   "metadata": {},
   "outputs": [],
   "source": [
    "sample.weights.shape"
   ]
  },
  {
   "cell_type": "code",
   "execution_count": null,
   "metadata": {},
   "outputs": [],
   "source": [
    "(sample.weights==0).sum(), (sample.weights==1).sum(), (sample.weights==2).sum()"
   ]
  },
  {
   "cell_type": "code",
   "execution_count": null,
   "metadata": {},
   "outputs": [],
   "source": [
    "sample.y.sum(), (~sample.y).sum()"
   ]
  },
  {
   "cell_type": "code",
   "execution_count": null,
   "metadata": {},
   "outputs": [],
   "source": [
    "(sample.weights==0 & sample.y).sum()"
   ]
  },
  {
   "cell_type": "code",
   "execution_count": null,
   "metadata": {},
   "outputs": [],
   "source": [
    "(sample.weights==1 & ~sample.y).sum()"
   ]
  },
  {
   "cell_type": "code",
   "execution_count": null,
   "metadata": {},
   "outputs": [],
   "source": [
    "((sample.weights==2) & sample.y).sum()"
   ]
  },
  {
   "cell_type": "code",
   "execution_count": null,
   "metadata": {},
   "outputs": [],
   "source": [
    "((sample.weights==2) & ~sample.y).sum()"
   ]
  },
  {
   "cell_type": "code",
   "execution_count": null,
   "metadata": {},
   "outputs": [],
   "source": [
    "model = model.to(\"cuda\")\n",
    "sample = sample.to(\"cuda\")"
   ]
  },
  {
   "cell_type": "code",
   "execution_count": null,
   "metadata": {},
   "outputs": [],
   "source": [
    "with torch.no_grad():\n",
    "    outputs = model.shared_evaluation(sample, 0)"
   ]
  },
  {
   "cell_type": "code",
   "execution_count": null,
   "metadata": {},
   "outputs": [],
   "source": [
    "outputs"
   ]
  },
  {
   "cell_type": "code",
   "execution_count": null,
   "metadata": {},
   "outputs": [],
   "source": [
    "outputs[\"all_truth\"].sum()"
   ]
  },
  {
   "cell_type": "code",
   "execution_count": null,
   "metadata": {},
   "outputs": [],
   "source": [
    "outputs[\"target_truth\"].sum()"
   ]
  },
  {
   "cell_type": "code",
   "execution_count": null,
   "metadata": {},
   "outputs": [],
   "source": [
    "sample.y.sum()"
   ]
  },
  {
   "cell_type": "code",
   "execution_count": null,
   "metadata": {},
   "outputs": [],
   "source": [
    "preds = torch.sigmoid(out) > 0.5"
   ]
  },
  {
   "cell_type": "code",
   "execution_count": null,
   "metadata": {},
   "outputs": [],
   "source": [
    "# Positives\n",
    "edge_positive = preds.sum().float()\n",
    "\n",
    "# Signal true & signal tp\n",
    "sig_true = outputs[\"target_truth\"].sum().float()\n",
    "sig_true_positive = (outputs[\"target_truth\"].bool() & preds).sum().float()\n",
    "background_true_positive = (outputs[\"all_truth\"].bool() & preds).sum().float()"
   ]
  },
  {
   "cell_type": "code",
   "execution_count": null,
   "metadata": {},
   "outputs": [],
   "source": [
    "sig_eff = sig_true_positive / sig_true\n",
    "sig_pur = sig_true_positive / edge_positive\n",
    "background_pur = background_true_positive / edge_positive"
   ]
  },
  {
   "cell_type": "code",
   "execution_count": null,
   "metadata": {},
   "outputs": [],
   "source": [
    "sig_eff, sig_pur, background_pur"
   ]
  },
  {
   "cell_type": "code",
   "execution_count": null,
   "metadata": {},
   "outputs": [],
   "source": []
  },
  {
   "attachments": {},
   "cell_type": "markdown",
   "metadata": {},
   "source": [
    "## Filter Debug"
   ]
  },
  {
   "cell_type": "code",
   "execution_count": null,
   "metadata": {},
   "outputs": [],
   "source": [
    "from gnn4itk_cf.stages.edge_classifier.models.filter import Filter"
   ]
  },
  {
   "cell_type": "code",
   "execution_count": null,
   "metadata": {},
   "outputs": [],
   "source": [
    "config = yaml.load(open('filter_train.yaml'), Loader=yaml.FullLoader)"
   ]
  },
  {
   "cell_type": "code",
   "execution_count": null,
   "metadata": {},
   "outputs": [],
   "source": [
    "model = Filter(config)"
   ]
  },
  {
   "cell_type": "code",
   "execution_count": null,
   "metadata": {},
   "outputs": [],
   "source": [
    "model.setup('fit')"
   ]
  },
  {
   "cell_type": "code",
   "execution_count": null,
   "metadata": {},
   "outputs": [],
   "source": [
    "sample = model.trainset[0]"
   ]
  },
  {
   "cell_type": "code",
   "execution_count": null,
   "metadata": {},
   "outputs": [],
   "source": [
    "sample"
   ]
  },
  {
   "cell_type": "code",
   "execution_count": null,
   "metadata": {},
   "outputs": [],
   "source": [
    "graph_sizes = [sample.edge_index.shape[1] for sample in model.trainset]"
   ]
  },
  {
   "cell_type": "code",
   "execution_count": null,
   "metadata": {},
   "outputs": [],
   "source": [
    "sns.distplot(graph_sizes)"
   ]
  },
  {
   "attachments": {},
   "cell_type": "markdown",
   "metadata": {},
   "source": [
    "### Metric Debug"
   ]
  },
  {
   "cell_type": "code",
   "execution_count": null,
   "metadata": {},
   "outputs": [],
   "source": [
    "%%time\n",
    "with torch.no_grad():\n",
    "    out = model.to(\"cuda\")(sample.to(\"cuda\"))"
   ]
  },
  {
   "cell_type": "code",
   "execution_count": null,
   "metadata": {},
   "outputs": [],
   "source": [
    "sns.distplot(torch.sigmoid(out).cpu())"
   ]
  },
  {
   "cell_type": "code",
   "execution_count": null,
   "metadata": {},
   "outputs": [],
   "source": [
    "sample"
   ]
  },
  {
   "cell_type": "code",
   "execution_count": null,
   "metadata": {},
   "outputs": [],
   "source": [
    "sample.weights.shape"
   ]
  },
  {
   "cell_type": "code",
   "execution_count": null,
   "metadata": {},
   "outputs": [],
   "source": [
    "(sample.weights==-1).sum(), (sample.weights==0).sum(), (sample.weights==1).sum(), (sample.weights==2).sum()"
   ]
  },
  {
   "cell_type": "code",
   "execution_count": null,
   "metadata": {},
   "outputs": [],
   "source": [
    "sample.y.sum(), (~sample.y).sum()"
   ]
  },
  {
   "cell_type": "code",
   "execution_count": null,
   "metadata": {},
   "outputs": [],
   "source": [
    "((sample.weights==1) & sample.y).sum()"
   ]
  },
  {
   "cell_type": "code",
   "execution_count": null,
   "metadata": {},
   "outputs": [],
   "source": [
    "((sample.weights==1) & ~sample.y).sum()"
   ]
  },
  {
   "cell_type": "code",
   "execution_count": null,
   "metadata": {},
   "outputs": [],
   "source": [
    "((sample.weights==0) & sample.y).sum()"
   ]
  },
  {
   "cell_type": "code",
   "execution_count": null,
   "metadata": {},
   "outputs": [],
   "source": [
    "((sample.weights==0) & ~sample.y).sum()"
   ]
  },
  {
   "cell_type": "code",
   "execution_count": null,
   "metadata": {},
   "outputs": [],
   "source": [
    "model = model.to(\"cuda\")\n",
    "sample = sample.to(\"cuda\")"
   ]
  },
  {
   "cell_type": "code",
   "execution_count": null,
   "metadata": {},
   "outputs": [],
   "source": [
    "with torch.no_grad():\n",
    "    outputs = model.shared_evaluation(sample, 0)"
   ]
  },
  {
   "cell_type": "code",
   "execution_count": null,
   "metadata": {},
   "outputs": [],
   "source": [
    "outputs"
   ]
  },
  {
   "cell_type": "code",
   "execution_count": null,
   "metadata": {},
   "outputs": [],
   "source": [
    "out = outputs[\"output\"]"
   ]
  },
  {
   "cell_type": "code",
   "execution_count": null,
   "metadata": {},
   "outputs": [],
   "source": [
    "outputs[\"all_truth\"].sum()"
   ]
  },
  {
   "cell_type": "code",
   "execution_count": null,
   "metadata": {},
   "outputs": [],
   "source": [
    "outputs[\"target_truth\"].sum()"
   ]
  },
  {
   "cell_type": "code",
   "execution_count": null,
   "metadata": {},
   "outputs": [],
   "source": [
    "sample.y.sum()"
   ]
  },
  {
   "cell_type": "code",
   "execution_count": null,
   "metadata": {},
   "outputs": [],
   "source": [
    "preds = torch.sigmoid(out) > 0.4"
   ]
  },
  {
   "cell_type": "code",
   "execution_count": null,
   "metadata": {},
   "outputs": [],
   "source": [
    "# Positives\n",
    "edge_positive = preds.sum().float()\n",
    "\n",
    "# Signal true & signal tp\n",
    "sig_true = outputs[\"target_truth\"].sum().float()\n",
    "sig_true_positive = (outputs[\"target_truth\"].bool() & preds).sum().float()\n",
    "background_true_positive = (outputs[\"all_truth\"].bool() & preds).sum().float()"
   ]
  },
  {
   "cell_type": "code",
   "execution_count": null,
   "metadata": {},
   "outputs": [],
   "source": [
    "sig_eff = sig_true_positive / sig_true\n",
    "sig_pur = sig_true_positive / edge_positive\n",
    "background_pur = background_true_positive / edge_positive"
   ]
  },
  {
   "cell_type": "code",
   "execution_count": null,
   "metadata": {},
   "outputs": [],
   "source": [
    "sig_eff, sig_pur, background_pur"
   ]
  },
  {
   "attachments": {},
   "cell_type": "markdown",
   "metadata": {},
   "source": [
    "### Normalize inputs"
   ]
  },
  {
   "cell_type": "markdown",
   "metadata": {},
   "source": []
  },
  {
   "cell_type": "code",
   "execution_count": null,
   "metadata": {},
   "outputs": [],
   "source": [
    "# Get max, mean and min of each node feature\n",
    "node_features = model.hparams[\"node_features\"]"
   ]
  },
  {
   "cell_type": "code",
   "execution_count": null,
   "metadata": {},
   "outputs": [],
   "source": [
    "node_features"
   ]
  },
  {
   "cell_type": "code",
   "execution_count": null,
   "metadata": {},
   "outputs": [],
   "source": [
    "statistics = {}\n",
    "for data in model.trainset:\n",
    "    for feature in node_features:\n",
    "        if feature not in statistics:\n",
    "            statistics[feature] = {\"max\": [], \"mean\": [], \"min\": [], \"std\": []}\n",
    "        statistics[feature][\"max\"].append(data[feature].max())\n",
    "        statistics[feature][\"mean\"].append(data[feature].mean())\n",
    "        statistics[feature][\"min\"].append(data[feature].min())\n",
    "        statistics[feature][\"std\"].append(data[feature].std())\n",
    "\n",
    "# Get max, mean and min of each statistic feature\n",
    "for feature in statistics:\n",
    "    statistics[feature][\"max\"] = np.max(statistics[feature][\"max\"])\n",
    "    statistics[feature][\"mean\"] = np.mean(statistics[feature][\"mean\"])\n",
    "    statistics[feature][\"min\"] = np.min(statistics[feature][\"min\"])\n",
    "    statistics[feature][\"std\"] = np.mean(statistics[feature][\"std\"])"
   ]
  },
  {
   "cell_type": "code",
   "execution_count": null,
   "metadata": {},
   "outputs": [],
   "source": [
    "for feature in statistics:\n",
    "    print(f\"{feature} max: {statistics[feature]['max']:.2f}\")\n",
    "    print(f\"{feature} mean: {statistics[feature]['mean']:.2f}\")\n",
    "    print(f\"{feature} min: {statistics[feature]['min']:.2f}\")\n",
    "    print(f\"{feature} std: {statistics[feature]['std']:.2f}\")\n",
    "    print(\"---\")"
   ]
  },
  {
   "attachments": {},
   "cell_type": "markdown",
   "metadata": {},
   "source": [
    "### Inspect true edges"
   ]
  },
  {
   "cell_type": "markdown",
   "metadata": {},
   "source": []
  },
  {
   "cell_type": "code",
   "execution_count": null,
   "metadata": {},
   "outputs": [],
   "source": [
    "sample = model.trainset[0]"
   ]
  },
  {
   "cell_type": "code",
   "execution_count": null,
   "metadata": {},
   "outputs": [],
   "source": [
    "sample"
   ]
  },
  {
   "cell_type": "code",
   "execution_count": null,
   "metadata": {},
   "outputs": [],
   "source": [
    "# Plot true edges in sample for one particle\n",
    "unique_pids, counts_pids = sample.particle_id.unique(return_counts = True)"
   ]
  },
  {
   "cell_type": "code",
   "execution_count": null,
   "metadata": {},
   "outputs": [],
   "source": [
    "sample_pid = unique_pids[counts_pids >= 10][0]"
   ]
  },
  {
   "cell_type": "code",
   "execution_count": null,
   "metadata": {},
   "outputs": [],
   "source": [
    "sample.particle_id == sample_pid"
   ]
  },
  {
   "cell_type": "code",
   "execution_count": null,
   "metadata": {},
   "outputs": [],
   "source": [
    "sample_true_edges = sample.track_edges[:, sample.particle_id == sample_pid]"
   ]
  },
  {
   "cell_type": "code",
   "execution_count": null,
   "metadata": {},
   "outputs": [],
   "source": [
    "x, y = sample.x_r*1000 * np.cos(sample.x_phi*3.14), sample.x_r*1000 * np.sin(sample.x_phi*3.14)"
   ]
  },
  {
   "cell_type": "code",
   "execution_count": null,
   "metadata": {},
   "outputs": [],
   "source": [
    "sample_true_edges"
   ]
  },
  {
   "cell_type": "code",
   "execution_count": null,
   "metadata": {},
   "outputs": [],
   "source": [
    "plt.figure(figsize=(10,10))\n",
    "plt.scatter(x, y, s=0.1, c=\"black\", alpha=0.1)\n",
    "plt.scatter(x[sample_true_edges[0]], y[sample_true_edges[0]], s=10, c=\"b\")\n",
    "plt.scatter(x[sample_true_edges[1]], y[sample_true_edges[1]], s=10, c=\"b\")"
   ]
  },
  {
   "cell_type": "code",
   "execution_count": null,
   "metadata": {},
   "outputs": [],
   "source": [
    "plt.figure(figsize=(10,10))\n",
    "plt.scatter(x, y, s=0.1, c=\"black\", alpha=0.1)\n",
    "plt.plot(x[sample_true_edges], y[sample_true_edges], c=\"b\");"
   ]
  },
  {
   "cell_type": "code",
   "execution_count": null,
   "metadata": {},
   "outputs": [],
   "source": [
    "sample"
   ]
  },
  {
   "attachments": {},
   "cell_type": "markdown",
   "metadata": {},
   "source": [
    "### Debug Reversed Edges"
   ]
  },
  {
   "cell_type": "markdown",
   "metadata": {},
   "source": []
  },
  {
   "cell_type": "code",
   "execution_count": null,
   "metadata": {},
   "outputs": [],
   "source": [
    "sample"
   ]
  },
  {
   "cell_type": "code",
   "execution_count": null,
   "metadata": {},
   "outputs": [],
   "source": [
    "%%time\n",
    "with torch.no_grad():\n",
    "    out = model.to(\"cuda\")(sample.to(\"cuda\"))"
   ]
  },
  {
   "cell_type": "code",
   "execution_count": null,
   "metadata": {},
   "outputs": [],
   "source": [
    "sns.distplot(torch.sigmoid(out).cpu())"
   ]
  },
  {
   "cell_type": "code",
   "execution_count": null,
   "metadata": {},
   "outputs": [],
   "source": [
    "sample"
   ]
  },
  {
   "cell_type": "code",
   "execution_count": null,
   "metadata": {},
   "outputs": [],
   "source": [
    "sample.weights.shape"
   ]
  },
  {
   "cell_type": "code",
   "execution_count": null,
   "metadata": {},
   "outputs": [],
   "source": [
    "(sample.weights==-1).sum(), (sample.weights==0).sum(), (sample.weights==1).sum(), (sample.weights==2).sum()"
   ]
  },
  {
   "cell_type": "code",
   "execution_count": null,
   "metadata": {},
   "outputs": [],
   "source": [
    "sample.y.sum(), (~sample.y).sum()"
   ]
  },
  {
   "cell_type": "code",
   "execution_count": null,
   "metadata": {},
   "outputs": [],
   "source": [
    "((sample.weights==1) & sample.y).sum()"
   ]
  },
  {
   "cell_type": "code",
   "execution_count": null,
   "metadata": {},
   "outputs": [],
   "source": [
    "((sample.weights==1) & ~sample.y).sum()"
   ]
  },
  {
   "cell_type": "code",
   "execution_count": null,
   "metadata": {},
   "outputs": [],
   "source": [
    "((sample.weights==0) & sample.y).sum()"
   ]
  },
  {
   "cell_type": "code",
   "execution_count": null,
   "metadata": {},
   "outputs": [],
   "source": [
    "((sample.weights==0) & ~sample.y).sum()"
   ]
  },
  {
   "cell_type": "code",
   "execution_count": null,
   "metadata": {},
   "outputs": [],
   "source": [
    "model = model.to(\"cuda\")\n",
    "sample = sample.to(\"cuda\")"
   ]
  },
  {
   "cell_type": "code",
   "execution_count": null,
   "metadata": {},
   "outputs": [],
   "source": [
    "with torch.no_grad():\n",
    "    outputs = model.shared_evaluation(sample, 0)"
   ]
  },
  {
   "cell_type": "code",
   "execution_count": null,
   "metadata": {},
   "outputs": [],
   "source": [
    "outputs"
   ]
  },
  {
   "cell_type": "code",
   "execution_count": null,
   "metadata": {},
   "outputs": [],
   "source": [
    "out = outputs[\"output\"]"
   ]
  },
  {
   "cell_type": "code",
   "execution_count": null,
   "metadata": {},
   "outputs": [],
   "source": [
    "outputs[\"all_truth\"].sum()"
   ]
  },
  {
   "cell_type": "code",
   "execution_count": null,
   "metadata": {},
   "outputs": [],
   "source": [
    "outputs[\"target_truth\"].sum()"
   ]
  },
  {
   "cell_type": "code",
   "execution_count": null,
   "metadata": {},
   "outputs": [],
   "source": [
    "sample.y.sum()"
   ]
  },
  {
   "cell_type": "code",
   "execution_count": null,
   "metadata": {},
   "outputs": [],
   "source": [
    "preds = torch.sigmoid(out) > 0.2"
   ]
  },
  {
   "cell_type": "code",
   "execution_count": null,
   "metadata": {},
   "outputs": [],
   "source": [
    "# Positives\n",
    "edge_positive = preds.sum().float()\n",
    "\n",
    "# Signal true & signal tp\n",
    "sig_true = outputs[\"target_truth\"].sum().float()\n",
    "sig_true_positive = (outputs[\"target_truth\"].bool() & preds).sum().float()\n",
    "background_true_positive = (outputs[\"all_truth\"].bool() & preds).sum().float()"
   ]
  },
  {
   "cell_type": "code",
   "execution_count": null,
   "metadata": {},
   "outputs": [],
   "source": [
    "sig_eff = sig_true_positive / sig_true\n",
    "sig_pur = sig_true_positive / edge_positive\n",
    "background_pur = background_true_positive / edge_positive"
   ]
  },
  {
   "cell_type": "code",
   "execution_count": null,
   "metadata": {},
   "outputs": [],
   "source": [
    "sig_eff, sig_pur, background_pur"
   ]
  },
  {
   "attachments": {},
   "cell_type": "markdown",
   "metadata": {},
   "source": [
    "Debug the reversing process"
   ]
  },
  {
   "cell_type": "code",
   "execution_count": null,
   "metadata": {},
   "outputs": [],
   "source": [
    "sample"
   ]
  },
  {
   "cell_type": "code",
   "execution_count": null,
   "metadata": {},
   "outputs": [],
   "source": [
    "edge_index = torch.cat([sample.edge_index, sample.edge_index.flip(0)], dim=1)\n",
    "y = torch.cat([sample.y, sample.y], dim=0)\n",
    "weights = torch.cat([sample.weights, sample.weights], dim=0)"
   ]
  },
  {
   "cell_type": "code",
   "execution_count": null,
   "metadata": {},
   "outputs": [],
   "source": [
    "edge_index"
   ]
  },
  {
   "cell_type": "code",
   "execution_count": null,
   "metadata": {},
   "outputs": [],
   "source": [
    "y"
   ]
  },
  {
   "cell_type": "code",
   "execution_count": null,
   "metadata": {},
   "outputs": [],
   "source": [
    "weights"
   ]
  },
  {
   "cell_type": "code",
   "execution_count": null,
   "metadata": {},
   "outputs": [],
   "source": [
    "# Edges and y are the same shape, I want to get unique edges and map the uniqueness to the y and weights\n",
    "unique_edges, unique_edge_indices = torch.unique(edge_index, dim=1, return_inverse=True)\n",
    "unique_y = torch.zeros_like(unique_edges[0], dtype=y.dtype).scatter(0, unique_edge_indices, y)\n",
    "unique_weights = torch.zeros_like(unique_edges[0], dtype=weights.dtype).scatter(0, unique_edge_indices, weights)"
   ]
  },
  {
   "cell_type": "code",
   "execution_count": null,
   "metadata": {},
   "outputs": [],
   "source": [
    "unique_weights"
   ]
  },
  {
   "cell_type": "code",
   "execution_count": null,
   "metadata": {},
   "outputs": [],
   "source": [
    "unique_edges"
   ]
  },
  {
   "cell_type": "code",
   "execution_count": null,
   "metadata": {},
   "outputs": [],
   "source": [
    "unique_y"
   ]
  },
  {
   "cell_type": "code",
   "execution_count": null,
   "metadata": {},
   "outputs": [],
   "source": [
    "edge_index[:, y]"
   ]
  },
  {
   "cell_type": "code",
   "execution_count": null,
   "metadata": {},
   "outputs": [],
   "source": [
    "weights[y]"
   ]
  },
  {
   "cell_type": "code",
   "execution_count": null,
   "metadata": {},
   "outputs": [],
   "source": [
    "unique_edges[:, unique_y]"
   ]
  },
  {
   "cell_type": "code",
   "execution_count": null,
   "metadata": {},
   "outputs": [],
   "source": [
    "unique_weights[unique_y]"
   ]
  },
  {
   "attachments": {},
   "cell_type": "markdown",
   "metadata": {},
   "source": [
    "## Test Figure of Merit Setup"
   ]
  },
  {
   "cell_type": "markdown",
   "metadata": {},
   "source": []
  },
  {
   "cell_type": "code",
   "execution_count": null,
   "metadata": {},
   "outputs": [],
   "source": [
    "import pytorch_lightning as pl\n",
    "trainer = pl.Trainer(gpus=1, max_epochs=1)"
   ]
  },
  {
   "cell_type": "code",
   "execution_count": null,
   "metadata": {},
   "outputs": [],
   "source": [
    "# Train filter model\n",
    "trainer.fit(model)"
   ]
  },
  {
   "cell_type": "code",
   "execution_count": null,
   "metadata": {},
   "outputs": [],
   "source": [
    "model.logger"
   ]
  },
  {
   "cell_type": "code",
   "execution_count": null,
   "metadata": {},
   "outputs": [],
   "source": []
  }
 ],
 "metadata": {
  "kernelspec": {
   "display_name": "Python 3 (ipykernel)",
   "language": "python",
   "name": "python3"
  },
  "language_info": {
   "codemirror_mode": {
    "name": "ipython",
    "version": 3
   },
   "file_extension": ".py",
   "mimetype": "text/x-python",
   "name": "python",
   "nbconvert_exporter": "python",
   "pygments_lexer": "ipython3",
   "version": "3.8.12"
  },
  "orig_nbformat": 4,
  "vscode": {
   "interpreter": {
    "hash": "ab48adb41b8b8044ca3e1b10285c01a4f474a98b0c8dc3ffd314e85581ffd197"
   }
  }
 },
 "nbformat": 4,
 "nbformat_minor": 2
}
